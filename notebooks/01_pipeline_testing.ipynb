{
 "cells": [
  {
   "cell_type": "markdown",
   "id": "6a72957b",
   "metadata": {},
   "source": [
    "# **MODULE TESTING**\n",
    "1) Individual Component/Tool Testing\n",
    "2) Agent Builder Testing without any Multi LLM Orchestration or Dynamic Prompting (purely based on hard inputs without any context)\n",
    "3) Testing the addition of Multi-LLM Orchestration and Dynamic Prompting for Intro chat, Missing persona Args and Output Enhancing with context"
   ]
  },
  {
   "cell_type": "code",
   "execution_count": 12,
   "id": "9809d488",
   "metadata": {},
   "outputs": [],
   "source": [
    "# Setting Project Root\n",
    "import sys, os\n",
    "PROJECT_ROOT = os.path.abspath(os.path.join(os.getcwd(), \"..\"))\n",
    "if PROJECT_ROOT not in sys.path:\n",
    "    sys.path.insert(0, PROJECT_ROOT)"
   ]
  },
  {
   "cell_type": "markdown",
   "id": "d8d850b9",
   "metadata": {},
   "source": [
    "## **01. Component Testing**"
   ]
  },
  {
   "cell_type": "code",
   "execution_count": 2,
   "id": "ca32d7fd",
   "metadata": {},
   "outputs": [
    {
     "name": "stderr",
     "output_type": "stream",
     "text": [
      "d:\\IIT BBS\\Job Resources\\2cents capital\\valura_agent\\agent\\builder.py:30: LangChainDeprecationWarning: Please see the migration guide at: https://python.langchain.com/docs/versions/migrating_memory/\n",
      "  memory = ConversationBufferMemory(\n",
      "d:\\IIT BBS\\Job Resources\\2cents capital\\valura_agent\\agent\\builder.py:36: LangChainDeprecationWarning: The class `ChatOllama` was deprecated in LangChain 0.3.1 and will be removed in 1.0.0. An updated version of the class exists in the :class:`~langchain-ollama package and should be used instead. To use it run `pip install -U :class:`~langchain-ollama` and import as `from :class:`~langchain_ollama import ChatOllama``.\n",
      "  model = ChatOllama(model=\"llama3:instruct\", temperature=0.7)\n",
      "d:\\IIT BBS\\Job Resources\\2cents capital\\valura_agent\\agent\\builder.py:38: LangChainDeprecationWarning: LangChain agents will continue to be supported, but it is recommended for new use cases to be built with LangGraph. LangGraph offers a more flexible and full-featured framework for building agents, including support for tool-calling, persistence of state, and human-in-the-loop workflows. For details, refer to the `LangGraph documentation <https://langchain-ai.github.io/langgraph/>`_ as well as guides for `Migrating from AgentExecutor <https://python.langchain.com/docs/how_to/migrate_agent/>`_ and LangGraph's `Pre-built ReAct agent <https://langchain-ai.github.io/langgraph/how-tos/create-react-agent/>`_.\n",
      "  agent = initialize_agent(\n"
     ]
    }
   ],
   "source": [
    "from agent.builder import build_agent\n",
    "agent = build_agent(\"test_pipeline\")\n",
    "memory = agent.memory"
   ]
  },
  {
   "cell_type": "markdown",
   "id": "8f58aff1",
   "metadata": {},
   "source": [
    "### **JSON Memory**"
   ]
  },
  {
   "cell_type": "code",
   "execution_count": 3,
   "id": "ea7455d4",
   "metadata": {},
   "outputs": [
    {
     "name": "stdout",
     "output_type": "stream",
     "text": [
      "Existing Messages: ['Test AI response', 'This is a user message', 'User persona set: age=35, income=100000, savings=15000, monthly_saving=2000, goal_age=60, return_rate=0.07', 'Test AI response', 'This is a user message', 'User persona set: age=35, income=100000, savings=15000, monthly_saving=2000, goal_age=60, return_rate=0.07', 'Test AI response', 'This is a user message', 'User persona set: age=35, income=100000, savings=15000, monthly_saving=2000, goal_age=60, return_rate=0.07', 'Test AI response', 'This is a user message', 'User persona set: age=35, income=100000, savings=15000, monthly_saving=2000, goal_age=60, return_rate=0.07', 'Test AI response', 'This is a user message', 'User persona set: age=35, income=100000, savings=15000, monthly_saving=2000, goal_age=60, return_rate=0.07', 'Test AI response', 'This is a user message', 'User persona set: age=35, income=100000, savings=15000, monthly_saving=2000, goal_age=60, return_rate=0.07', 'Test AI response', 'This is a user message', 'User persona set: age=35, income=100000, savings=15000, monthly_saving=2000, goal_age=60, return_rate=0.07', 'Test AI response', 'This is a user message', 'User persona set: age=35, income=100000, savings=15000, monthly_saving=2000, goal_age=60, return_rate=0.07', 'Test AI response', 'This is a user message', 'User persona set: age=35, income=100000, savings=15000, monthly_saving=2000, goal_age=60, return_rate=0.07']\n",
      "After Add: ['Test AI response', 'This is a user message', 'User persona set: age=35, income=100000, savings=15000, monthly_saving=2000, goal_age=60, return_rate=0.07', 'Test AI response', 'This is a user message', 'User persona set: age=35, income=100000, savings=15000, monthly_saving=2000, goal_age=60, return_rate=0.07', 'Test AI response', 'This is a user message', 'User persona set: age=35, income=100000, savings=15000, monthly_saving=2000, goal_age=60, return_rate=0.07', 'Test AI response', 'This is a user message', 'User persona set: age=35, income=100000, savings=15000, monthly_saving=2000, goal_age=60, return_rate=0.07', 'Test AI response', 'This is a user message', 'User persona set: age=35, income=100000, savings=15000, monthly_saving=2000, goal_age=60, return_rate=0.07', 'Test AI response', 'This is a user message', 'User persona set: age=35, income=100000, savings=15000, monthly_saving=2000, goal_age=60, return_rate=0.07', 'Test AI response', 'This is a user message', 'User persona set: age=35, income=100000, savings=15000, monthly_saving=2000, goal_age=60, return_rate=0.07', 'Test AI response', 'This is a user message', 'User persona set: age=35, income=100000, savings=15000, monthly_saving=2000, goal_age=60, return_rate=0.07', 'Test AI response', 'This is a user message', 'User persona set: age=35, income=100000, savings=15000, monthly_saving=2000, goal_age=60, return_rate=0.07', 'Test AI response', 'This is a user message']\n"
     ]
    }
   ],
   "source": [
    "from agent.memory.json_memory import JSONMessageHistory\n",
    "from langchain.schema.messages import AIMessage, HumanMessage\n",
    "\n",
    "# Step 1: Load memory\n",
    "history = JSONMessageHistory(\"test_pipeline\")\n",
    "print(\"Existing Messages:\", [m.content for m in history.messages])\n",
    "\n",
    "# Step 2: Add valid message objects\n",
    "history.add_message(AIMessage(content=\"Test AI response\"))\n",
    "history.add_message(HumanMessage(content=\"This is a user message\"))\n",
    "\n",
    "# Step 3: Verify it persisted correctly\n",
    "print(\"After Add:\", [m.content for m in history.messages])"
   ]
  },
  {
   "cell_type": "markdown",
   "id": "0c917155",
   "metadata": {},
   "source": [
    "### **Memory & Persona Memory**"
   ]
  },
  {
   "cell_type": "code",
   "execution_count": 4,
   "id": "4afa9ff4",
   "metadata": {},
   "outputs": [
    {
     "name": "stdout",
     "output_type": "stream",
     "text": [
      "Extracted Persona Dict: {'age': 35.0, 'income': 100000.0, 'savings': 15000.0, 'monthly_saving': 2000.0, 'goal_age': 60.0, 'return_rate': 0.07}\n",
      "Persona Dataclass: Persona(age=35, income=100000.0, savings=15000.0, monthly_saving=2000.0, goal_age=60, return_rate=0.07)\n"
     ]
    }
   ],
   "source": [
    "from agent.memory.memory import build_memory, extract_persona\n",
    "from agent.memory.persona_memory import get_persona\n",
    "from langchain.schema.messages import SystemMessage\n",
    "\n",
    "# Step 1: Build memory wrapper\n",
    "memory = build_memory(\"test_pipeline\")  # same session ID as previous test\n",
    "\n",
    "# Step 2: Add a system message with persona info\n",
    "memory.chat_memory.add_message(SystemMessage(content=\"User persona set: age=35, income=100000, savings=15000, monthly_saving=2000, goal_age=60, return_rate=0.07\"))\n",
    "\n",
    "# Step 3: Extract raw persona dictionary\n",
    "persona_dict = extract_persona(memory)\n",
    "print(\"Extracted Persona Dict:\", persona_dict)\n",
    "\n",
    "# Step 4: Use dataclass wrapper\n",
    "persona_obj = get_persona(memory)\n",
    "print(\"Persona Dataclass:\", persona_obj)"
   ]
  },
  {
   "cell_type": "markdown",
   "id": "232e2e4c",
   "metadata": {},
   "source": [
    "### **Personas**"
   ]
  },
  {
   "cell_type": "code",
   "execution_count": null,
   "id": "01f304eb",
   "metadata": {},
   "outputs": [
    {
     "name": "stdout",
     "output_type": "stream",
     "text": [
      "Persona Tool Result:\n",
      " Persona saved:\n",
      "Age: 35, Income: 100000.0, Savings: 15000.0,\n",
      "Monthly Saving: 2000.0, Goal Age: 60, Return Rate: 0.07\n"
     ]
    }
   ],
   "source": [
    "from agent.tools.personas import set_persona_tool\n",
    "\n",
    "response = set_persona_tool.invoke({\n",
    "    \"input\": \"age=35, income=100000, savings=15000, monthly_saving=2000, goal_age=60, return_rate=0.07\"\n",
    "})\n",
    "print(response)"
   ]
  },
  {
   "cell_type": "markdown",
   "id": "f06fbe99",
   "metadata": {},
   "source": [
    "### **Testing Formulas**"
   ]
  },
  {
   "cell_type": "code",
   "execution_count": 6,
   "id": "d8c0c962",
   "metadata": {},
   "outputs": [
    {
     "name": "stdout",
     "output_type": "stream",
     "text": [
      "Future Value: 19671.51\n",
      "Present Value: 10166.99\n",
      "FV Annuity: 15917.13\n",
      "PV Annuity: 8863.25\n",
      "NPER: 11.47\n",
      "Rule of 72: 9.0\n"
     ]
    }
   ],
   "source": [
    "from agent.tools.formulas import (\n",
    "    future_value_tool, present_value_tool,\n",
    "    future_value_annuity_tool, present_value_annuity_tool,\n",
    "    number_of_periods_tool, rule_of_72_tool\n",
    ")\n",
    "\n",
    "# All tools accept comma-separated string input now\n",
    "print(\"Future Value:\", future_value_tool.invoke(\"pv=10000, rate=0.07, n=10\"))\n",
    "print(\"Present Value:\", present_value_tool.invoke(\"fv=20000, rate=0.07, n=10\"))\n",
    "print(\"FV Annuity:\", future_value_annuity_tool.invoke(\"pmt=1000, rate=0.05, n=12\"))\n",
    "print(\"PV Annuity:\", present_value_annuity_tool.invoke(\"pmt=1000, rate=0.05, n=12\"))\n",
    "print(\"NPER:\", number_of_periods_tool.invoke(\"rate=0.05, pmt=1000, pv=0, fv=15000\"))\n",
    "print(\"Rule of 72:\", rule_of_72_tool.invoke(\"rate=0.08\"))\n"
   ]
  },
  {
   "cell_type": "markdown",
   "id": "129c4bf7",
   "metadata": {},
   "source": [
    "### **Calculators**"
   ]
  },
  {
   "cell_type": "code",
   "execution_count": 7,
   "id": "25a2e189",
   "metadata": {},
   "outputs": [
    {
     "name": "stdout",
     "output_type": "stream",
     "text": [
      "You can retire at approximately age 50.\n",
      "Your savings will last approximately 3 years.\n",
      "You need to save approximately $1082.16 per month.\n"
     ]
    }
   ],
   "source": [
    "from agent.tools.calculators import (\n",
    "    retirement_age_calculator_tool,\n",
    "    savings_longevity_tool,\n",
    "    monthly_saving_target_tool\n",
    ")\n",
    "\n",
    "# 🧮 Retirement Age Estimation\n",
    "print(retirement_age_calculator_tool.invoke(\n",
    "    \"age=30, savings=10000, monthly_saving=2000, goal=1000000, rate=0.07\"\n",
    "))\n",
    "\n",
    "# 💸 Savings Longevity Estimation\n",
    "print(savings_longevity_tool.invoke(\n",
    "    \"savings=200000, monthly_withdrawal=5000, rate=0.05\"\n",
    "))\n",
    "\n",
    "# 📈 Monthly Saving Target\n",
    "print(monthly_saving_target_tool.invoke(\n",
    "    \"goal=500000, years=20, rate=0.06\"\n",
    "))"
   ]
  },
  {
   "cell_type": "markdown",
   "id": "5e0de384",
   "metadata": {},
   "source": [
    "### **Explainers**"
   ]
  },
  {
   "cell_type": "code",
   "execution_count": 8,
   "id": "06424278",
   "metadata": {},
   "outputs": [
    {
     "name": "stdout",
     "output_type": "stream",
     "text": [
      "FV: Future Value (FV) = PV × (1 + r)^n — calculates how much your money will grow over time.\n",
      "PV: Present Value (PV) = FV / (1 + r)^n — determines today's value of a future sum.\n",
      "FV Annuity: FV of Annuity = PMT × [(1 + r)^n – 1] / r — computes future value of recurring deposits.\n",
      "PV Annuity: PV of Annuity = PMT × [1 – (1 + r)^(-n)] / r — computes how much a series of withdrawals is worth today.\n",
      "NPER: NPER estimates the number of periods to reach a goal based on payment and interest.\n",
      "Rule 72: Rule of 72: Years ≈ 72 / (rate × 100) — quickly estimates how long it takes to double your money.\n",
      "Unknown: ⚠️ Sorry, I don't recognize that formula keyword.\n"
     ]
    }
   ],
   "source": [
    "from agent.tools.explain import explain_formula_tool\n",
    "\n",
    "print(\"FV:\", explain_formula_tool.invoke(\"fv\"))\n",
    "print(\"PV:\", explain_formula_tool.invoke(\"pv\"))\n",
    "print(\"FV Annuity:\", explain_formula_tool.invoke(\"fv_annuity\"))\n",
    "print(\"PV Annuity:\", explain_formula_tool.invoke(\"pv_annuity\"))\n",
    "print(\"NPER:\", explain_formula_tool.invoke(\"nper\"))\n",
    "print(\"Rule 72:\", explain_formula_tool.invoke(\"rule_72\"))\n",
    "print(\"Unknown:\", explain_formula_tool.invoke(\"banana\"))"
   ]
  },
  {
   "cell_type": "markdown",
   "id": "9528cd76",
   "metadata": {},
   "source": [
    "## **02. Before Dynamic Prompting Test**\n",
    "- Havent used multiple LLMs yet\n",
    "- Only used hard inputs"
   ]
  },
  {
   "cell_type": "markdown",
   "id": "46c9ee0d",
   "metadata": {},
   "source": [
    "### **Builder Test**"
   ]
  },
  {
   "cell_type": "code",
   "execution_count": 9,
   "id": "3b6946d2",
   "metadata": {},
   "outputs": [],
   "source": [
    "from agent.builder import build_agent\n",
    "\n",
    "# Step 1: Build agent\n",
    "agent = build_agent(\"test_full_pipeline\")"
   ]
  },
  {
   "cell_type": "code",
   "execution_count": 4,
   "id": "73948da0",
   "metadata": {},
   "outputs": [
    {
     "name": "stdout",
     "output_type": "stream",
     "text": [
      "\n",
      "\n",
      "\u001b[1m> Entering new AgentExecutor chain...\u001b[0m\n",
      "\u001b[32;1m\u001b[1;3mCould not parse LLM output: I'll start by responding naturally. Here's my response:\n",
      "\n",
      "```json\n",
      "{\n",
      "    \"action\": \"respond_naturally_tool\"\n",
      "}\n",
      "```\n",
      "\n",
      "I'm ready for the next step!\n",
      "For troubleshooting, visit: https://python.langchain.com/docs/troubleshooting/errors/OUTPUT_PARSING_FAILURE \u001b[0m\n",
      "Observation: Invalid or incomplete response\n",
      "Thought:"
     ]
    },
    {
     "ename": "KeyboardInterrupt",
     "evalue": "",
     "output_type": "error",
     "traceback": [
      "\u001b[31m---------------------------------------------------------------------------\u001b[39m",
      "\u001b[31mKeyboardInterrupt\u001b[39m                         Traceback (most recent call last)",
      "\u001b[36mCell\u001b[39m\u001b[36m \u001b[39m\u001b[32mIn[4]\u001b[39m\u001b[32m, line 2\u001b[39m\n\u001b[32m      1\u001b[39m \u001b[38;5;66;03m# Step 3: Ask a general query (should trigger fallback tool)\u001b[39;00m\n\u001b[32m----> \u001b[39m\u001b[32m2\u001b[39m general_response = \u001b[43magent\u001b[49m\u001b[43m.\u001b[49m\u001b[43minvoke\u001b[49m\u001b[43m(\u001b[49m\u001b[43m{\u001b[49m\u001b[33;43m\"\u001b[39;49m\u001b[33;43minput\u001b[39;49m\u001b[33;43m\"\u001b[39;49m\u001b[43m:\u001b[49m\u001b[43m \u001b[49m\u001b[33;43m\"\u001b[39;49m\u001b[33;43mhello, how are you?\u001b[39;49m\u001b[33;43m\"\u001b[39;49m\u001b[43m}\u001b[49m\u001b[43m)\u001b[49m\n\u001b[32m      3\u001b[39m \u001b[38;5;28mprint\u001b[39m(\u001b[33m\"\u001b[39m\u001b[38;5;130;01m\\n\u001b[39;00m\u001b[33m[Fallback Response]\u001b[39m\u001b[33m\"\u001b[39m)\n\u001b[32m      4\u001b[39m \u001b[38;5;28mprint\u001b[39m(general_response[\u001b[33m\"\u001b[39m\u001b[33moutput\u001b[39m\u001b[33m\"\u001b[39m])\n",
      "\u001b[36mFile \u001b[39m\u001b[32md:\\Anaconda\\envs\\valura_agent\\Lib\\site-packages\\langchain\\chains\\base.py:165\u001b[39m, in \u001b[36mChain.invoke\u001b[39m\u001b[34m(self, input, config, **kwargs)\u001b[39m\n\u001b[32m    162\u001b[39m \u001b[38;5;28;01mtry\u001b[39;00m:\n\u001b[32m    163\u001b[39m     \u001b[38;5;28mself\u001b[39m._validate_inputs(inputs)\n\u001b[32m    164\u001b[39m     outputs = (\n\u001b[32m--> \u001b[39m\u001b[32m165\u001b[39m         \u001b[38;5;28;43mself\u001b[39;49m\u001b[43m.\u001b[49m\u001b[43m_call\u001b[49m\u001b[43m(\u001b[49m\u001b[43minputs\u001b[49m\u001b[43m,\u001b[49m\u001b[43m \u001b[49m\u001b[43mrun_manager\u001b[49m\u001b[43m=\u001b[49m\u001b[43mrun_manager\u001b[49m\u001b[43m)\u001b[49m\n\u001b[32m    166\u001b[39m         \u001b[38;5;28;01mif\u001b[39;00m new_arg_supported\n\u001b[32m    167\u001b[39m         \u001b[38;5;28;01melse\u001b[39;00m \u001b[38;5;28mself\u001b[39m._call(inputs)\n\u001b[32m    168\u001b[39m     )\n\u001b[32m    170\u001b[39m     final_outputs: \u001b[38;5;28mdict\u001b[39m[\u001b[38;5;28mstr\u001b[39m, Any] = \u001b[38;5;28mself\u001b[39m.prep_outputs(\n\u001b[32m    171\u001b[39m         inputs,\n\u001b[32m    172\u001b[39m         outputs,\n\u001b[32m    173\u001b[39m         return_only_outputs,\n\u001b[32m    174\u001b[39m     )\n\u001b[32m    175\u001b[39m \u001b[38;5;28;01mexcept\u001b[39;00m \u001b[38;5;167;01mBaseException\u001b[39;00m \u001b[38;5;28;01mas\u001b[39;00m e:\n",
      "\u001b[36mFile \u001b[39m\u001b[32md:\\Anaconda\\envs\\valura_agent\\Lib\\site-packages\\langchain\\agents\\agent.py:1625\u001b[39m, in \u001b[36mAgentExecutor._call\u001b[39m\u001b[34m(self, inputs, run_manager)\u001b[39m\n\u001b[32m   1623\u001b[39m \u001b[38;5;66;03m# We now enter the agent loop (until it returns something).\u001b[39;00m\n\u001b[32m   1624\u001b[39m \u001b[38;5;28;01mwhile\u001b[39;00m \u001b[38;5;28mself\u001b[39m._should_continue(iterations, time_elapsed):\n\u001b[32m-> \u001b[39m\u001b[32m1625\u001b[39m     next_step_output = \u001b[38;5;28;43mself\u001b[39;49m\u001b[43m.\u001b[49m\u001b[43m_take_next_step\u001b[49m\u001b[43m(\u001b[49m\n\u001b[32m   1626\u001b[39m \u001b[43m        \u001b[49m\u001b[43mname_to_tool_map\u001b[49m\u001b[43m,\u001b[49m\n\u001b[32m   1627\u001b[39m \u001b[43m        \u001b[49m\u001b[43mcolor_mapping\u001b[49m\u001b[43m,\u001b[49m\n\u001b[32m   1628\u001b[39m \u001b[43m        \u001b[49m\u001b[43minputs\u001b[49m\u001b[43m,\u001b[49m\n\u001b[32m   1629\u001b[39m \u001b[43m        \u001b[49m\u001b[43mintermediate_steps\u001b[49m\u001b[43m,\u001b[49m\n\u001b[32m   1630\u001b[39m \u001b[43m        \u001b[49m\u001b[43mrun_manager\u001b[49m\u001b[43m=\u001b[49m\u001b[43mrun_manager\u001b[49m\u001b[43m,\u001b[49m\n\u001b[32m   1631\u001b[39m \u001b[43m    \u001b[49m\u001b[43m)\u001b[49m\n\u001b[32m   1632\u001b[39m     \u001b[38;5;28;01mif\u001b[39;00m \u001b[38;5;28misinstance\u001b[39m(next_step_output, AgentFinish):\n\u001b[32m   1633\u001b[39m         \u001b[38;5;28;01mreturn\u001b[39;00m \u001b[38;5;28mself\u001b[39m._return(\n\u001b[32m   1634\u001b[39m             next_step_output,\n\u001b[32m   1635\u001b[39m             intermediate_steps,\n\u001b[32m   1636\u001b[39m             run_manager=run_manager,\n\u001b[32m   1637\u001b[39m         )\n",
      "\u001b[36mFile \u001b[39m\u001b[32md:\\Anaconda\\envs\\valura_agent\\Lib\\site-packages\\langchain\\agents\\agent.py:1325\u001b[39m, in \u001b[36mAgentExecutor._take_next_step\u001b[39m\u001b[34m(self, name_to_tool_map, color_mapping, inputs, intermediate_steps, run_manager)\u001b[39m\n\u001b[32m   1316\u001b[39m \u001b[38;5;28;01mdef\u001b[39;00m\u001b[38;5;250m \u001b[39m\u001b[34m_take_next_step\u001b[39m(\n\u001b[32m   1317\u001b[39m     \u001b[38;5;28mself\u001b[39m,\n\u001b[32m   1318\u001b[39m     name_to_tool_map: \u001b[38;5;28mdict\u001b[39m[\u001b[38;5;28mstr\u001b[39m, BaseTool],\n\u001b[32m   (...)\u001b[39m\u001b[32m   1322\u001b[39m     run_manager: Optional[CallbackManagerForChainRun] = \u001b[38;5;28;01mNone\u001b[39;00m,\n\u001b[32m   1323\u001b[39m ) -> Union[AgentFinish, \u001b[38;5;28mlist\u001b[39m[\u001b[38;5;28mtuple\u001b[39m[AgentAction, \u001b[38;5;28mstr\u001b[39m]]]:\n\u001b[32m   1324\u001b[39m     \u001b[38;5;28;01mreturn\u001b[39;00m \u001b[38;5;28mself\u001b[39m._consume_next_step(\n\u001b[32m-> \u001b[39m\u001b[32m1325\u001b[39m         \u001b[38;5;28;43mlist\u001b[39;49m\u001b[43m(\u001b[49m\n\u001b[32m   1326\u001b[39m \u001b[43m            \u001b[49m\u001b[38;5;28;43mself\u001b[39;49m\u001b[43m.\u001b[49m\u001b[43m_iter_next_step\u001b[49m\u001b[43m(\u001b[49m\n\u001b[32m   1327\u001b[39m \u001b[43m                \u001b[49m\u001b[43mname_to_tool_map\u001b[49m\u001b[43m,\u001b[49m\n\u001b[32m   1328\u001b[39m \u001b[43m                \u001b[49m\u001b[43mcolor_mapping\u001b[49m\u001b[43m,\u001b[49m\n\u001b[32m   1329\u001b[39m \u001b[43m                \u001b[49m\u001b[43minputs\u001b[49m\u001b[43m,\u001b[49m\n\u001b[32m   1330\u001b[39m \u001b[43m                \u001b[49m\u001b[43mintermediate_steps\u001b[49m\u001b[43m,\u001b[49m\n\u001b[32m   1331\u001b[39m \u001b[43m                \u001b[49m\u001b[43mrun_manager\u001b[49m\u001b[43m,\u001b[49m\n\u001b[32m   1332\u001b[39m \u001b[43m            \u001b[49m\u001b[43m)\u001b[49m\u001b[43m,\u001b[49m\n\u001b[32m   1333\u001b[39m \u001b[43m        \u001b[49m\u001b[43m)\u001b[49m,\n\u001b[32m   1334\u001b[39m     )\n",
      "\u001b[36mFile \u001b[39m\u001b[32md:\\Anaconda\\envs\\valura_agent\\Lib\\site-packages\\langchain\\agents\\agent.py:1352\u001b[39m, in \u001b[36mAgentExecutor._iter_next_step\u001b[39m\u001b[34m(self, name_to_tool_map, color_mapping, inputs, intermediate_steps, run_manager)\u001b[39m\n\u001b[32m   1349\u001b[39m     intermediate_steps = \u001b[38;5;28mself\u001b[39m._prepare_intermediate_steps(intermediate_steps)\n\u001b[32m   1351\u001b[39m     \u001b[38;5;66;03m# Call the LLM to see what to do.\u001b[39;00m\n\u001b[32m-> \u001b[39m\u001b[32m1352\u001b[39m     output = \u001b[38;5;28;43mself\u001b[39;49m\u001b[43m.\u001b[49m\u001b[43m_action_agent\u001b[49m\u001b[43m.\u001b[49m\u001b[43mplan\u001b[49m\u001b[43m(\u001b[49m\n\u001b[32m   1353\u001b[39m \u001b[43m        \u001b[49m\u001b[43mintermediate_steps\u001b[49m\u001b[43m,\u001b[49m\n\u001b[32m   1354\u001b[39m \u001b[43m        \u001b[49m\u001b[43mcallbacks\u001b[49m\u001b[43m=\u001b[49m\u001b[43mrun_manager\u001b[49m\u001b[43m.\u001b[49m\u001b[43mget_child\u001b[49m\u001b[43m(\u001b[49m\u001b[43m)\u001b[49m\u001b[43m \u001b[49m\u001b[38;5;28;43;01mif\u001b[39;49;00m\u001b[43m \u001b[49m\u001b[43mrun_manager\u001b[49m\u001b[43m \u001b[49m\u001b[38;5;28;43;01melse\u001b[39;49;00m\u001b[43m \u001b[49m\u001b[38;5;28;43;01mNone\u001b[39;49;00m\u001b[43m,\u001b[49m\n\u001b[32m   1355\u001b[39m \u001b[43m        \u001b[49m\u001b[43m*\u001b[49m\u001b[43m*\u001b[49m\u001b[43minputs\u001b[49m\u001b[43m,\u001b[49m\n\u001b[32m   1356\u001b[39m \u001b[43m    \u001b[49m\u001b[43m)\u001b[49m\n\u001b[32m   1357\u001b[39m \u001b[38;5;28;01mexcept\u001b[39;00m OutputParserException \u001b[38;5;28;01mas\u001b[39;00m e:\n\u001b[32m   1358\u001b[39m     \u001b[38;5;28;01mif\u001b[39;00m \u001b[38;5;28misinstance\u001b[39m(\u001b[38;5;28mself\u001b[39m.handle_parsing_errors, \u001b[38;5;28mbool\u001b[39m):\n",
      "\u001b[36mFile \u001b[39m\u001b[32md:\\Anaconda\\envs\\valura_agent\\Lib\\site-packages\\langchain\\agents\\agent.py:800\u001b[39m, in \u001b[36mAgent.plan\u001b[39m\u001b[34m(self, intermediate_steps, callbacks, **kwargs)\u001b[39m\n\u001b[32m    788\u001b[39m \u001b[38;5;250m\u001b[39m\u001b[33;03m\"\"\"Given input, decided what to do.\u001b[39;00m\n\u001b[32m    789\u001b[39m \n\u001b[32m    790\u001b[39m \u001b[33;03mArgs:\u001b[39;00m\n\u001b[32m   (...)\u001b[39m\u001b[32m    797\u001b[39m \u001b[33;03m    Action specifying what tool to use.\u001b[39;00m\n\u001b[32m    798\u001b[39m \u001b[33;03m\"\"\"\u001b[39;00m\n\u001b[32m    799\u001b[39m full_inputs = \u001b[38;5;28mself\u001b[39m.get_full_inputs(intermediate_steps, **kwargs)\n\u001b[32m--> \u001b[39m\u001b[32m800\u001b[39m full_output = \u001b[38;5;28;43mself\u001b[39;49m\u001b[43m.\u001b[49m\u001b[43mllm_chain\u001b[49m\u001b[43m.\u001b[49m\u001b[43mpredict\u001b[49m\u001b[43m(\u001b[49m\u001b[43mcallbacks\u001b[49m\u001b[43m=\u001b[49m\u001b[43mcallbacks\u001b[49m\u001b[43m,\u001b[49m\u001b[43m \u001b[49m\u001b[43m*\u001b[49m\u001b[43m*\u001b[49m\u001b[43mfull_inputs\u001b[49m\u001b[43m)\u001b[49m\n\u001b[32m    801\u001b[39m \u001b[38;5;28;01mreturn\u001b[39;00m \u001b[38;5;28mself\u001b[39m.output_parser.parse(full_output)\n",
      "\u001b[36mFile \u001b[39m\u001b[32md:\\Anaconda\\envs\\valura_agent\\Lib\\site-packages\\langchain\\chains\\llm.py:325\u001b[39m, in \u001b[36mLLMChain.predict\u001b[39m\u001b[34m(self, callbacks, **kwargs)\u001b[39m\n\u001b[32m    310\u001b[39m \u001b[38;5;28;01mdef\u001b[39;00m\u001b[38;5;250m \u001b[39m\u001b[34mpredict\u001b[39m(\u001b[38;5;28mself\u001b[39m, callbacks: Callbacks = \u001b[38;5;28;01mNone\u001b[39;00m, **kwargs: Any) -> \u001b[38;5;28mstr\u001b[39m:\n\u001b[32m    311\u001b[39m \u001b[38;5;250m    \u001b[39m\u001b[33;03m\"\"\"Format prompt with kwargs and pass to LLM.\u001b[39;00m\n\u001b[32m    312\u001b[39m \n\u001b[32m    313\u001b[39m \u001b[33;03m    Args:\u001b[39;00m\n\u001b[32m   (...)\u001b[39m\u001b[32m    323\u001b[39m \u001b[33;03m            completion = llm.predict(adjective=\"funny\")\u001b[39;00m\n\u001b[32m    324\u001b[39m \u001b[33;03m    \"\"\"\u001b[39;00m\n\u001b[32m--> \u001b[39m\u001b[32m325\u001b[39m     \u001b[38;5;28;01mreturn\u001b[39;00m \u001b[38;5;28;43mself\u001b[39;49m\u001b[43m(\u001b[49m\u001b[43mkwargs\u001b[49m\u001b[43m,\u001b[49m\u001b[43m \u001b[49m\u001b[43mcallbacks\u001b[49m\u001b[43m=\u001b[49m\u001b[43mcallbacks\u001b[49m\u001b[43m)\u001b[49m[\u001b[38;5;28mself\u001b[39m.output_key]\n",
      "\u001b[36mFile \u001b[39m\u001b[32md:\\Anaconda\\envs\\valura_agent\\Lib\\site-packages\\langchain_core\\_api\\deprecation.py:189\u001b[39m, in \u001b[36mdeprecated.<locals>.deprecate.<locals>.warning_emitting_wrapper\u001b[39m\u001b[34m(*args, **kwargs)\u001b[39m\n\u001b[32m    187\u001b[39m     warned = \u001b[38;5;28;01mTrue\u001b[39;00m\n\u001b[32m    188\u001b[39m     emit_warning()\n\u001b[32m--> \u001b[39m\u001b[32m189\u001b[39m \u001b[38;5;28;01mreturn\u001b[39;00m \u001b[43mwrapped\u001b[49m\u001b[43m(\u001b[49m\u001b[43m*\u001b[49m\u001b[43margs\u001b[49m\u001b[43m,\u001b[49m\u001b[43m \u001b[49m\u001b[43m*\u001b[49m\u001b[43m*\u001b[49m\u001b[43mkwargs\u001b[49m\u001b[43m)\u001b[49m\n",
      "\u001b[36mFile \u001b[39m\u001b[32md:\\Anaconda\\envs\\valura_agent\\Lib\\site-packages\\langchain\\chains\\base.py:410\u001b[39m, in \u001b[36mChain.__call__\u001b[39m\u001b[34m(self, inputs, return_only_outputs, callbacks, tags, metadata, run_name, include_run_info)\u001b[39m\n\u001b[32m    378\u001b[39m \u001b[38;5;250m\u001b[39m\u001b[33;03m\"\"\"Execute the chain.\u001b[39;00m\n\u001b[32m    379\u001b[39m \n\u001b[32m    380\u001b[39m \u001b[33;03mArgs:\u001b[39;00m\n\u001b[32m   (...)\u001b[39m\u001b[32m    401\u001b[39m \u001b[33;03m        `Chain.output_keys`.\u001b[39;00m\n\u001b[32m    402\u001b[39m \u001b[33;03m\"\"\"\u001b[39;00m\n\u001b[32m    403\u001b[39m config = {\n\u001b[32m    404\u001b[39m     \u001b[33m\"\u001b[39m\u001b[33mcallbacks\u001b[39m\u001b[33m\"\u001b[39m: callbacks,\n\u001b[32m    405\u001b[39m     \u001b[33m\"\u001b[39m\u001b[33mtags\u001b[39m\u001b[33m\"\u001b[39m: tags,\n\u001b[32m    406\u001b[39m     \u001b[33m\"\u001b[39m\u001b[33mmetadata\u001b[39m\u001b[33m\"\u001b[39m: metadata,\n\u001b[32m    407\u001b[39m     \u001b[33m\"\u001b[39m\u001b[33mrun_name\u001b[39m\u001b[33m\"\u001b[39m: run_name,\n\u001b[32m    408\u001b[39m }\n\u001b[32m--> \u001b[39m\u001b[32m410\u001b[39m \u001b[38;5;28;01mreturn\u001b[39;00m \u001b[38;5;28;43mself\u001b[39;49m\u001b[43m.\u001b[49m\u001b[43minvoke\u001b[49m\u001b[43m(\u001b[49m\n\u001b[32m    411\u001b[39m \u001b[43m    \u001b[49m\u001b[43minputs\u001b[49m\u001b[43m,\u001b[49m\n\u001b[32m    412\u001b[39m \u001b[43m    \u001b[49m\u001b[43mcast\u001b[49m\u001b[43m(\u001b[49m\u001b[43mRunnableConfig\u001b[49m\u001b[43m,\u001b[49m\u001b[43m \u001b[49m\u001b[43m{\u001b[49m\u001b[43mk\u001b[49m\u001b[43m:\u001b[49m\u001b[43m \u001b[49m\u001b[43mv\u001b[49m\u001b[43m \u001b[49m\u001b[38;5;28;43;01mfor\u001b[39;49;00m\u001b[43m \u001b[49m\u001b[43mk\u001b[49m\u001b[43m,\u001b[49m\u001b[43m \u001b[49m\u001b[43mv\u001b[49m\u001b[43m \u001b[49m\u001b[38;5;129;43;01min\u001b[39;49;00m\u001b[43m \u001b[49m\u001b[43mconfig\u001b[49m\u001b[43m.\u001b[49m\u001b[43mitems\u001b[49m\u001b[43m(\u001b[49m\u001b[43m)\u001b[49m\u001b[43m \u001b[49m\u001b[38;5;28;43;01mif\u001b[39;49;00m\u001b[43m \u001b[49m\u001b[43mv\u001b[49m\u001b[43m \u001b[49m\u001b[38;5;129;43;01mis\u001b[39;49;00m\u001b[43m \u001b[49m\u001b[38;5;129;43;01mnot\u001b[39;49;00m\u001b[43m \u001b[49m\u001b[38;5;28;43;01mNone\u001b[39;49;00m\u001b[43m}\u001b[49m\u001b[43m)\u001b[49m\u001b[43m,\u001b[49m\n\u001b[32m    413\u001b[39m \u001b[43m    \u001b[49m\u001b[43mreturn_only_outputs\u001b[49m\u001b[43m=\u001b[49m\u001b[43mreturn_only_outputs\u001b[49m\u001b[43m,\u001b[49m\n\u001b[32m    414\u001b[39m \u001b[43m    \u001b[49m\u001b[43minclude_run_info\u001b[49m\u001b[43m=\u001b[49m\u001b[43minclude_run_info\u001b[49m\u001b[43m,\u001b[49m\n\u001b[32m    415\u001b[39m \u001b[43m\u001b[49m\u001b[43m)\u001b[49m\n",
      "\u001b[36mFile \u001b[39m\u001b[32md:\\Anaconda\\envs\\valura_agent\\Lib\\site-packages\\langchain\\chains\\base.py:165\u001b[39m, in \u001b[36mChain.invoke\u001b[39m\u001b[34m(self, input, config, **kwargs)\u001b[39m\n\u001b[32m    162\u001b[39m \u001b[38;5;28;01mtry\u001b[39;00m:\n\u001b[32m    163\u001b[39m     \u001b[38;5;28mself\u001b[39m._validate_inputs(inputs)\n\u001b[32m    164\u001b[39m     outputs = (\n\u001b[32m--> \u001b[39m\u001b[32m165\u001b[39m         \u001b[38;5;28;43mself\u001b[39;49m\u001b[43m.\u001b[49m\u001b[43m_call\u001b[49m\u001b[43m(\u001b[49m\u001b[43minputs\u001b[49m\u001b[43m,\u001b[49m\u001b[43m \u001b[49m\u001b[43mrun_manager\u001b[49m\u001b[43m=\u001b[49m\u001b[43mrun_manager\u001b[49m\u001b[43m)\u001b[49m\n\u001b[32m    166\u001b[39m         \u001b[38;5;28;01mif\u001b[39;00m new_arg_supported\n\u001b[32m    167\u001b[39m         \u001b[38;5;28;01melse\u001b[39;00m \u001b[38;5;28mself\u001b[39m._call(inputs)\n\u001b[32m    168\u001b[39m     )\n\u001b[32m    170\u001b[39m     final_outputs: \u001b[38;5;28mdict\u001b[39m[\u001b[38;5;28mstr\u001b[39m, Any] = \u001b[38;5;28mself\u001b[39m.prep_outputs(\n\u001b[32m    171\u001b[39m         inputs,\n\u001b[32m    172\u001b[39m         outputs,\n\u001b[32m    173\u001b[39m         return_only_outputs,\n\u001b[32m    174\u001b[39m     )\n\u001b[32m    175\u001b[39m \u001b[38;5;28;01mexcept\u001b[39;00m \u001b[38;5;167;01mBaseException\u001b[39;00m \u001b[38;5;28;01mas\u001b[39;00m e:\n",
      "\u001b[36mFile \u001b[39m\u001b[32md:\\Anaconda\\envs\\valura_agent\\Lib\\site-packages\\langchain\\chains\\llm.py:127\u001b[39m, in \u001b[36mLLMChain._call\u001b[39m\u001b[34m(self, inputs, run_manager)\u001b[39m\n\u001b[32m    122\u001b[39m \u001b[38;5;28;01mdef\u001b[39;00m\u001b[38;5;250m \u001b[39m\u001b[34m_call\u001b[39m(\n\u001b[32m    123\u001b[39m     \u001b[38;5;28mself\u001b[39m,\n\u001b[32m    124\u001b[39m     inputs: \u001b[38;5;28mdict\u001b[39m[\u001b[38;5;28mstr\u001b[39m, Any],\n\u001b[32m    125\u001b[39m     run_manager: Optional[CallbackManagerForChainRun] = \u001b[38;5;28;01mNone\u001b[39;00m,\n\u001b[32m    126\u001b[39m ) -> \u001b[38;5;28mdict\u001b[39m[\u001b[38;5;28mstr\u001b[39m, \u001b[38;5;28mstr\u001b[39m]:\n\u001b[32m--> \u001b[39m\u001b[32m127\u001b[39m     response = \u001b[38;5;28;43mself\u001b[39;49m\u001b[43m.\u001b[49m\u001b[43mgenerate\u001b[49m\u001b[43m(\u001b[49m\u001b[43m[\u001b[49m\u001b[43minputs\u001b[49m\u001b[43m]\u001b[49m\u001b[43m,\u001b[49m\u001b[43m \u001b[49m\u001b[43mrun_manager\u001b[49m\u001b[43m=\u001b[49m\u001b[43mrun_manager\u001b[49m\u001b[43m)\u001b[49m\n\u001b[32m    128\u001b[39m     \u001b[38;5;28;01mreturn\u001b[39;00m \u001b[38;5;28mself\u001b[39m.create_outputs(response)[\u001b[32m0\u001b[39m]\n",
      "\u001b[36mFile \u001b[39m\u001b[32md:\\Anaconda\\envs\\valura_agent\\Lib\\site-packages\\langchain\\chains\\llm.py:139\u001b[39m, in \u001b[36mLLMChain.generate\u001b[39m\u001b[34m(self, input_list, run_manager)\u001b[39m\n\u001b[32m    137\u001b[39m callbacks = run_manager.get_child() \u001b[38;5;28;01mif\u001b[39;00m run_manager \u001b[38;5;28;01melse\u001b[39;00m \u001b[38;5;28;01mNone\u001b[39;00m\n\u001b[32m    138\u001b[39m \u001b[38;5;28;01mif\u001b[39;00m \u001b[38;5;28misinstance\u001b[39m(\u001b[38;5;28mself\u001b[39m.llm, BaseLanguageModel):\n\u001b[32m--> \u001b[39m\u001b[32m139\u001b[39m     \u001b[38;5;28;01mreturn\u001b[39;00m \u001b[38;5;28;43mself\u001b[39;49m\u001b[43m.\u001b[49m\u001b[43mllm\u001b[49m\u001b[43m.\u001b[49m\u001b[43mgenerate_prompt\u001b[49m\u001b[43m(\u001b[49m\n\u001b[32m    140\u001b[39m \u001b[43m        \u001b[49m\u001b[43mprompts\u001b[49m\u001b[43m,\u001b[49m\n\u001b[32m    141\u001b[39m \u001b[43m        \u001b[49m\u001b[43mstop\u001b[49m\u001b[43m,\u001b[49m\n\u001b[32m    142\u001b[39m \u001b[43m        \u001b[49m\u001b[43mcallbacks\u001b[49m\u001b[43m=\u001b[49m\u001b[43mcallbacks\u001b[49m\u001b[43m,\u001b[49m\n\u001b[32m    143\u001b[39m \u001b[43m        \u001b[49m\u001b[43m*\u001b[49m\u001b[43m*\u001b[49m\u001b[38;5;28;43mself\u001b[39;49m\u001b[43m.\u001b[49m\u001b[43mllm_kwargs\u001b[49m\u001b[43m,\u001b[49m\n\u001b[32m    144\u001b[39m \u001b[43m    \u001b[49m\u001b[43m)\u001b[49m\n\u001b[32m    145\u001b[39m results = \u001b[38;5;28mself\u001b[39m.llm.bind(stop=stop, **\u001b[38;5;28mself\u001b[39m.llm_kwargs).batch(\n\u001b[32m    146\u001b[39m     cast(\u001b[38;5;28mlist\u001b[39m, prompts),\n\u001b[32m    147\u001b[39m     {\u001b[33m\"\u001b[39m\u001b[33mcallbacks\u001b[39m\u001b[33m\"\u001b[39m: callbacks},\n\u001b[32m    148\u001b[39m )\n\u001b[32m    149\u001b[39m generations: \u001b[38;5;28mlist\u001b[39m[\u001b[38;5;28mlist\u001b[39m[Generation]] = []\n",
      "\u001b[36mFile \u001b[39m\u001b[32md:\\Anaconda\\envs\\valura_agent\\Lib\\site-packages\\langchain_core\\language_models\\chat_models.py:980\u001b[39m, in \u001b[36mBaseChatModel.generate_prompt\u001b[39m\u001b[34m(self, prompts, stop, callbacks, **kwargs)\u001b[39m\n\u001b[32m    971\u001b[39m \u001b[38;5;129m@override\u001b[39m\n\u001b[32m    972\u001b[39m \u001b[38;5;28;01mdef\u001b[39;00m\u001b[38;5;250m \u001b[39m\u001b[34mgenerate_prompt\u001b[39m(\n\u001b[32m    973\u001b[39m     \u001b[38;5;28mself\u001b[39m,\n\u001b[32m   (...)\u001b[39m\u001b[32m    977\u001b[39m     **kwargs: Any,\n\u001b[32m    978\u001b[39m ) -> LLMResult:\n\u001b[32m    979\u001b[39m     prompt_messages = [p.to_messages() \u001b[38;5;28;01mfor\u001b[39;00m p \u001b[38;5;129;01min\u001b[39;00m prompts]\n\u001b[32m--> \u001b[39m\u001b[32m980\u001b[39m     \u001b[38;5;28;01mreturn\u001b[39;00m \u001b[38;5;28;43mself\u001b[39;49m\u001b[43m.\u001b[49m\u001b[43mgenerate\u001b[49m\u001b[43m(\u001b[49m\u001b[43mprompt_messages\u001b[49m\u001b[43m,\u001b[49m\u001b[43m \u001b[49m\u001b[43mstop\u001b[49m\u001b[43m=\u001b[49m\u001b[43mstop\u001b[49m\u001b[43m,\u001b[49m\u001b[43m \u001b[49m\u001b[43mcallbacks\u001b[49m\u001b[43m=\u001b[49m\u001b[43mcallbacks\u001b[49m\u001b[43m,\u001b[49m\u001b[43m \u001b[49m\u001b[43m*\u001b[49m\u001b[43m*\u001b[49m\u001b[43mkwargs\u001b[49m\u001b[43m)\u001b[49m\n",
      "\u001b[36mFile \u001b[39m\u001b[32md:\\Anaconda\\envs\\valura_agent\\Lib\\site-packages\\langchain_core\\language_models\\chat_models.py:799\u001b[39m, in \u001b[36mBaseChatModel.generate\u001b[39m\u001b[34m(self, messages, stop, callbacks, tags, metadata, run_name, run_id, **kwargs)\u001b[39m\n\u001b[32m    796\u001b[39m \u001b[38;5;28;01mfor\u001b[39;00m i, m \u001b[38;5;129;01min\u001b[39;00m \u001b[38;5;28menumerate\u001b[39m(input_messages):\n\u001b[32m    797\u001b[39m     \u001b[38;5;28;01mtry\u001b[39;00m:\n\u001b[32m    798\u001b[39m         results.append(\n\u001b[32m--> \u001b[39m\u001b[32m799\u001b[39m             \u001b[38;5;28;43mself\u001b[39;49m\u001b[43m.\u001b[49m\u001b[43m_generate_with_cache\u001b[49m\u001b[43m(\u001b[49m\n\u001b[32m    800\u001b[39m \u001b[43m                \u001b[49m\u001b[43mm\u001b[49m\u001b[43m,\u001b[49m\n\u001b[32m    801\u001b[39m \u001b[43m                \u001b[49m\u001b[43mstop\u001b[49m\u001b[43m=\u001b[49m\u001b[43mstop\u001b[49m\u001b[43m,\u001b[49m\n\u001b[32m    802\u001b[39m \u001b[43m                \u001b[49m\u001b[43mrun_manager\u001b[49m\u001b[43m=\u001b[49m\u001b[43mrun_managers\u001b[49m\u001b[43m[\u001b[49m\u001b[43mi\u001b[49m\u001b[43m]\u001b[49m\u001b[43m \u001b[49m\u001b[38;5;28;43;01mif\u001b[39;49;00m\u001b[43m \u001b[49m\u001b[43mrun_managers\u001b[49m\u001b[43m \u001b[49m\u001b[38;5;28;43;01melse\u001b[39;49;00m\u001b[43m \u001b[49m\u001b[38;5;28;43;01mNone\u001b[39;49;00m\u001b[43m,\u001b[49m\n\u001b[32m    803\u001b[39m \u001b[43m                \u001b[49m\u001b[43m*\u001b[49m\u001b[43m*\u001b[49m\u001b[43mkwargs\u001b[49m\u001b[43m,\u001b[49m\n\u001b[32m    804\u001b[39m \u001b[43m            \u001b[49m\u001b[43m)\u001b[49m\n\u001b[32m    805\u001b[39m         )\n\u001b[32m    806\u001b[39m     \u001b[38;5;28;01mexcept\u001b[39;00m \u001b[38;5;167;01mBaseException\u001b[39;00m \u001b[38;5;28;01mas\u001b[39;00m e:\n\u001b[32m    807\u001b[39m         \u001b[38;5;28;01mif\u001b[39;00m run_managers:\n",
      "\u001b[36mFile \u001b[39m\u001b[32md:\\Anaconda\\envs\\valura_agent\\Lib\\site-packages\\langchain_core\\language_models\\chat_models.py:1045\u001b[39m, in \u001b[36mBaseChatModel._generate_with_cache\u001b[39m\u001b[34m(self, messages, stop, run_manager, **kwargs)\u001b[39m\n\u001b[32m   1043\u001b[39m     result = generate_from_stream(\u001b[38;5;28miter\u001b[39m(chunks))\n\u001b[32m   1044\u001b[39m \u001b[38;5;28;01melif\u001b[39;00m inspect.signature(\u001b[38;5;28mself\u001b[39m._generate).parameters.get(\u001b[33m\"\u001b[39m\u001b[33mrun_manager\u001b[39m\u001b[33m\"\u001b[39m):\n\u001b[32m-> \u001b[39m\u001b[32m1045\u001b[39m     result = \u001b[38;5;28;43mself\u001b[39;49m\u001b[43m.\u001b[49m\u001b[43m_generate\u001b[49m\u001b[43m(\u001b[49m\n\u001b[32m   1046\u001b[39m \u001b[43m        \u001b[49m\u001b[43mmessages\u001b[49m\u001b[43m,\u001b[49m\u001b[43m \u001b[49m\u001b[43mstop\u001b[49m\u001b[43m=\u001b[49m\u001b[43mstop\u001b[49m\u001b[43m,\u001b[49m\u001b[43m \u001b[49m\u001b[43mrun_manager\u001b[49m\u001b[43m=\u001b[49m\u001b[43mrun_manager\u001b[49m\u001b[43m,\u001b[49m\u001b[43m \u001b[49m\u001b[43m*\u001b[49m\u001b[43m*\u001b[49m\u001b[43mkwargs\u001b[49m\n\u001b[32m   1047\u001b[39m \u001b[43m    \u001b[49m\u001b[43m)\u001b[49m\n\u001b[32m   1048\u001b[39m \u001b[38;5;28;01melse\u001b[39;00m:\n\u001b[32m   1049\u001b[39m     result = \u001b[38;5;28mself\u001b[39m._generate(messages, stop=stop, **kwargs)\n",
      "\u001b[36mFile \u001b[39m\u001b[32md:\\Anaconda\\envs\\valura_agent\\Lib\\site-packages\\langchain_community\\chat_models\\ollama.py:291\u001b[39m, in \u001b[36mChatOllama._generate\u001b[39m\u001b[34m(self, messages, stop, run_manager, **kwargs)\u001b[39m\n\u001b[32m    267\u001b[39m \u001b[38;5;28;01mdef\u001b[39;00m\u001b[38;5;250m \u001b[39m\u001b[34m_generate\u001b[39m(\n\u001b[32m    268\u001b[39m     \u001b[38;5;28mself\u001b[39m,\n\u001b[32m    269\u001b[39m     messages: List[BaseMessage],\n\u001b[32m   (...)\u001b[39m\u001b[32m    272\u001b[39m     **kwargs: Any,\n\u001b[32m    273\u001b[39m ) -> ChatResult:\n\u001b[32m    274\u001b[39m \u001b[38;5;250m    \u001b[39m\u001b[33;03m\"\"\"Call out to Ollama's generate endpoint.\u001b[39;00m\n\u001b[32m    275\u001b[39m \n\u001b[32m    276\u001b[39m \u001b[33;03m    Args:\u001b[39;00m\n\u001b[32m   (...)\u001b[39m\u001b[32m    288\u001b[39m \u001b[33;03m            ])\u001b[39;00m\n\u001b[32m    289\u001b[39m \u001b[33;03m    \"\"\"\u001b[39;00m\n\u001b[32m--> \u001b[39m\u001b[32m291\u001b[39m     final_chunk = \u001b[38;5;28;43mself\u001b[39;49m\u001b[43m.\u001b[49m\u001b[43m_chat_stream_with_aggregation\u001b[49m\u001b[43m(\u001b[49m\n\u001b[32m    292\u001b[39m \u001b[43m        \u001b[49m\u001b[43mmessages\u001b[49m\u001b[43m,\u001b[49m\n\u001b[32m    293\u001b[39m \u001b[43m        \u001b[49m\u001b[43mstop\u001b[49m\u001b[43m=\u001b[49m\u001b[43mstop\u001b[49m\u001b[43m,\u001b[49m\n\u001b[32m    294\u001b[39m \u001b[43m        \u001b[49m\u001b[43mrun_manager\u001b[49m\u001b[43m=\u001b[49m\u001b[43mrun_manager\u001b[49m\u001b[43m,\u001b[49m\n\u001b[32m    295\u001b[39m \u001b[43m        \u001b[49m\u001b[43mverbose\u001b[49m\u001b[43m=\u001b[49m\u001b[38;5;28;43mself\u001b[39;49m\u001b[43m.\u001b[49m\u001b[43mverbose\u001b[49m\u001b[43m,\u001b[49m\n\u001b[32m    296\u001b[39m \u001b[43m        \u001b[49m\u001b[43m*\u001b[49m\u001b[43m*\u001b[49m\u001b[43mkwargs\u001b[49m\u001b[43m,\u001b[49m\n\u001b[32m    297\u001b[39m \u001b[43m    \u001b[49m\u001b[43m)\u001b[49m\n\u001b[32m    298\u001b[39m     chat_generation = ChatGeneration(\n\u001b[32m    299\u001b[39m         message=AIMessage(content=final_chunk.text),\n\u001b[32m    300\u001b[39m         generation_info=final_chunk.generation_info,\n\u001b[32m    301\u001b[39m     )\n\u001b[32m    302\u001b[39m     \u001b[38;5;28;01mreturn\u001b[39;00m ChatResult(generations=[chat_generation])\n",
      "\u001b[36mFile \u001b[39m\u001b[32md:\\Anaconda\\envs\\valura_agent\\Lib\\site-packages\\langchain_community\\chat_models\\ollama.py:222\u001b[39m, in \u001b[36mChatOllama._chat_stream_with_aggregation\u001b[39m\u001b[34m(self, messages, stop, run_manager, verbose, **kwargs)\u001b[39m\n\u001b[32m    213\u001b[39m \u001b[38;5;28;01mdef\u001b[39;00m\u001b[38;5;250m \u001b[39m\u001b[34m_chat_stream_with_aggregation\u001b[39m(\n\u001b[32m    214\u001b[39m     \u001b[38;5;28mself\u001b[39m,\n\u001b[32m    215\u001b[39m     messages: List[BaseMessage],\n\u001b[32m   (...)\u001b[39m\u001b[32m    219\u001b[39m     **kwargs: Any,\n\u001b[32m    220\u001b[39m ) -> ChatGenerationChunk:\n\u001b[32m    221\u001b[39m     final_chunk: Optional[ChatGenerationChunk] = \u001b[38;5;28;01mNone\u001b[39;00m\n\u001b[32m--> \u001b[39m\u001b[32m222\u001b[39m \u001b[43m    \u001b[49m\u001b[38;5;28;43;01mfor\u001b[39;49;00m\u001b[43m \u001b[49m\u001b[43mstream_resp\u001b[49m\u001b[43m \u001b[49m\u001b[38;5;129;43;01min\u001b[39;49;00m\u001b[43m \u001b[49m\u001b[38;5;28;43mself\u001b[39;49m\u001b[43m.\u001b[49m\u001b[43m_create_chat_stream\u001b[49m\u001b[43m(\u001b[49m\u001b[43mmessages\u001b[49m\u001b[43m,\u001b[49m\u001b[43m \u001b[49m\u001b[43mstop\u001b[49m\u001b[43m,\u001b[49m\u001b[43m \u001b[49m\u001b[43m*\u001b[49m\u001b[43m*\u001b[49m\u001b[43mkwargs\u001b[49m\u001b[43m)\u001b[49m\u001b[43m:\u001b[49m\n\u001b[32m    223\u001b[39m \u001b[43m        \u001b[49m\u001b[38;5;28;43;01mif\u001b[39;49;00m\u001b[43m \u001b[49m\u001b[43mstream_resp\u001b[49m\u001b[43m:\u001b[49m\n\u001b[32m    224\u001b[39m \u001b[43m            \u001b[49m\u001b[43mchunk\u001b[49m\u001b[43m \u001b[49m\u001b[43m=\u001b[49m\u001b[43m \u001b[49m\u001b[43m_chat_stream_response_to_chat_generation_chunk\u001b[49m\u001b[43m(\u001b[49m\u001b[43mstream_resp\u001b[49m\u001b[43m)\u001b[49m\n",
      "\u001b[36mFile \u001b[39m\u001b[32md:\\Anaconda\\envs\\valura_agent\\Lib\\site-packages\\langchain_community\\chat_models\\ollama.py:194\u001b[39m, in \u001b[36mChatOllama._create_chat_stream\u001b[39m\u001b[34m(self, messages, stop, **kwargs)\u001b[39m\n\u001b[32m    184\u001b[39m \u001b[38;5;28;01mdef\u001b[39;00m\u001b[38;5;250m \u001b[39m\u001b[34m_create_chat_stream\u001b[39m(\n\u001b[32m    185\u001b[39m     \u001b[38;5;28mself\u001b[39m,\n\u001b[32m    186\u001b[39m     messages: List[BaseMessage],\n\u001b[32m    187\u001b[39m     stop: Optional[List[\u001b[38;5;28mstr\u001b[39m]] = \u001b[38;5;28;01mNone\u001b[39;00m,\n\u001b[32m    188\u001b[39m     **kwargs: Any,\n\u001b[32m    189\u001b[39m ) -> Iterator[\u001b[38;5;28mstr\u001b[39m]:\n\u001b[32m    190\u001b[39m     payload = {\n\u001b[32m    191\u001b[39m         \u001b[33m\"\u001b[39m\u001b[33mmodel\u001b[39m\u001b[33m\"\u001b[39m: \u001b[38;5;28mself\u001b[39m.model,\n\u001b[32m    192\u001b[39m         \u001b[33m\"\u001b[39m\u001b[33mmessages\u001b[39m\u001b[33m\"\u001b[39m: \u001b[38;5;28mself\u001b[39m._convert_messages_to_ollama_messages(messages),\n\u001b[32m    193\u001b[39m     }\n\u001b[32m--> \u001b[39m\u001b[32m194\u001b[39m     \u001b[38;5;28;01myield from\u001b[39;00m \u001b[38;5;28mself\u001b[39m._create_stream(\n\u001b[32m    195\u001b[39m         payload=payload, stop=stop, api_url=\u001b[33mf\u001b[39m\u001b[33m\"\u001b[39m\u001b[38;5;132;01m{\u001b[39;00m\u001b[38;5;28mself\u001b[39m.base_url\u001b[38;5;132;01m}\u001b[39;00m\u001b[33m/api/chat\u001b[39m\u001b[33m\"\u001b[39m, **kwargs\n\u001b[32m    196\u001b[39m     )\n",
      "\u001b[36mFile \u001b[39m\u001b[32md:\\Anaconda\\envs\\valura_agent\\Lib\\site-packages\\requests\\models.py:869\u001b[39m, in \u001b[36mResponse.iter_lines\u001b[39m\u001b[34m(self, chunk_size, decode_unicode, delimiter)\u001b[39m\n\u001b[32m    860\u001b[39m \u001b[38;5;250m\u001b[39m\u001b[33;03m\"\"\"Iterates over the response data, one line at a time.  When\u001b[39;00m\n\u001b[32m    861\u001b[39m \u001b[33;03mstream=True is set on the request, this avoids reading the\u001b[39;00m\n\u001b[32m    862\u001b[39m \u001b[33;03mcontent at once into memory for large responses.\u001b[39;00m\n\u001b[32m    863\u001b[39m \n\u001b[32m    864\u001b[39m \u001b[33;03m.. note:: This method is not reentrant safe.\u001b[39;00m\n\u001b[32m    865\u001b[39m \u001b[33;03m\"\"\"\u001b[39;00m\n\u001b[32m    867\u001b[39m pending = \u001b[38;5;28;01mNone\u001b[39;00m\n\u001b[32m--> \u001b[39m\u001b[32m869\u001b[39m \u001b[43m\u001b[49m\u001b[38;5;28;43;01mfor\u001b[39;49;00m\u001b[43m \u001b[49m\u001b[43mchunk\u001b[49m\u001b[43m \u001b[49m\u001b[38;5;129;43;01min\u001b[39;49;00m\u001b[43m \u001b[49m\u001b[38;5;28;43mself\u001b[39;49m\u001b[43m.\u001b[49m\u001b[43miter_content\u001b[49m\u001b[43m(\u001b[49m\n\u001b[32m    870\u001b[39m \u001b[43m    \u001b[49m\u001b[43mchunk_size\u001b[49m\u001b[43m=\u001b[49m\u001b[43mchunk_size\u001b[49m\u001b[43m,\u001b[49m\u001b[43m \u001b[49m\u001b[43mdecode_unicode\u001b[49m\u001b[43m=\u001b[49m\u001b[43mdecode_unicode\u001b[49m\n\u001b[32m    871\u001b[39m \u001b[43m\u001b[49m\u001b[43m)\u001b[49m\u001b[43m:\u001b[49m\n\u001b[32m    872\u001b[39m \u001b[43m    \u001b[49m\u001b[38;5;28;43;01mif\u001b[39;49;00m\u001b[43m \u001b[49m\u001b[43mpending\u001b[49m\u001b[43m \u001b[49m\u001b[38;5;129;43;01mis\u001b[39;49;00m\u001b[43m \u001b[49m\u001b[38;5;129;43;01mnot\u001b[39;49;00m\u001b[43m \u001b[49m\u001b[38;5;28;43;01mNone\u001b[39;49;00m\u001b[43m:\u001b[49m\n\u001b[32m    873\u001b[39m \u001b[43m        \u001b[49m\u001b[43mchunk\u001b[49m\u001b[43m \u001b[49m\u001b[43m=\u001b[49m\u001b[43m \u001b[49m\u001b[43mpending\u001b[49m\u001b[43m \u001b[49m\u001b[43m+\u001b[49m\u001b[43m \u001b[49m\u001b[43mchunk\u001b[49m\n",
      "\u001b[36mFile \u001b[39m\u001b[32md:\\Anaconda\\envs\\valura_agent\\Lib\\site-packages\\requests\\utils.py:562\u001b[39m, in \u001b[36mstream_decode_response_unicode\u001b[39m\u001b[34m(iterator, r)\u001b[39m\n\u001b[32m    559\u001b[39m     \u001b[38;5;28;01mreturn\u001b[39;00m\n\u001b[32m    561\u001b[39m decoder = codecs.getincrementaldecoder(r.encoding)(errors=\u001b[33m\"\u001b[39m\u001b[33mreplace\u001b[39m\u001b[33m\"\u001b[39m)\n\u001b[32m--> \u001b[39m\u001b[32m562\u001b[39m \u001b[43m\u001b[49m\u001b[38;5;28;43;01mfor\u001b[39;49;00m\u001b[43m \u001b[49m\u001b[43mchunk\u001b[49m\u001b[43m \u001b[49m\u001b[38;5;129;43;01min\u001b[39;49;00m\u001b[43m \u001b[49m\u001b[43miterator\u001b[49m\u001b[43m:\u001b[49m\n\u001b[32m    563\u001b[39m \u001b[43m    \u001b[49m\u001b[43mrv\u001b[49m\u001b[43m \u001b[49m\u001b[43m=\u001b[49m\u001b[43m \u001b[49m\u001b[43mdecoder\u001b[49m\u001b[43m.\u001b[49m\u001b[43mdecode\u001b[49m\u001b[43m(\u001b[49m\u001b[43mchunk\u001b[49m\u001b[43m)\u001b[49m\n\u001b[32m    564\u001b[39m \u001b[43m    \u001b[49m\u001b[38;5;28;43;01mif\u001b[39;49;00m\u001b[43m \u001b[49m\u001b[43mrv\u001b[49m\u001b[43m:\u001b[49m\n",
      "\u001b[36mFile \u001b[39m\u001b[32md:\\Anaconda\\envs\\valura_agent\\Lib\\site-packages\\requests\\models.py:820\u001b[39m, in \u001b[36mResponse.iter_content.<locals>.generate\u001b[39m\u001b[34m()\u001b[39m\n\u001b[32m    818\u001b[39m \u001b[38;5;28;01mif\u001b[39;00m \u001b[38;5;28mhasattr\u001b[39m(\u001b[38;5;28mself\u001b[39m.raw, \u001b[33m\"\u001b[39m\u001b[33mstream\u001b[39m\u001b[33m\"\u001b[39m):\n\u001b[32m    819\u001b[39m     \u001b[38;5;28;01mtry\u001b[39;00m:\n\u001b[32m--> \u001b[39m\u001b[32m820\u001b[39m         \u001b[38;5;28;01myield from\u001b[39;00m \u001b[38;5;28mself\u001b[39m.raw.stream(chunk_size, decode_content=\u001b[38;5;28;01mTrue\u001b[39;00m)\n\u001b[32m    821\u001b[39m     \u001b[38;5;28;01mexcept\u001b[39;00m ProtocolError \u001b[38;5;28;01mas\u001b[39;00m e:\n\u001b[32m    822\u001b[39m         \u001b[38;5;28;01mraise\u001b[39;00m ChunkedEncodingError(e)\n",
      "\u001b[36mFile \u001b[39m\u001b[32md:\\Anaconda\\envs\\valura_agent\\Lib\\site-packages\\urllib3\\response.py:1088\u001b[39m, in \u001b[36mHTTPResponse.stream\u001b[39m\u001b[34m(self, amt, decode_content)\u001b[39m\n\u001b[32m   1072\u001b[39m \u001b[38;5;250m\u001b[39m\u001b[33;03m\"\"\"\u001b[39;00m\n\u001b[32m   1073\u001b[39m \u001b[33;03mA generator wrapper for the read() method. A call will block until\u001b[39;00m\n\u001b[32m   1074\u001b[39m \u001b[33;03m``amt`` bytes have been read from the connection or until the\u001b[39;00m\n\u001b[32m   (...)\u001b[39m\u001b[32m   1085\u001b[39m \u001b[33;03m    'content-encoding' header.\u001b[39;00m\n\u001b[32m   1086\u001b[39m \u001b[33;03m\"\"\"\u001b[39;00m\n\u001b[32m   1087\u001b[39m \u001b[38;5;28;01mif\u001b[39;00m \u001b[38;5;28mself\u001b[39m.chunked \u001b[38;5;129;01mand\u001b[39;00m \u001b[38;5;28mself\u001b[39m.supports_chunked_reads():\n\u001b[32m-> \u001b[39m\u001b[32m1088\u001b[39m     \u001b[38;5;28;01myield from\u001b[39;00m \u001b[38;5;28mself\u001b[39m.read_chunked(amt, decode_content=decode_content)\n\u001b[32m   1089\u001b[39m \u001b[38;5;28;01melse\u001b[39;00m:\n\u001b[32m   1090\u001b[39m     \u001b[38;5;28;01mwhile\u001b[39;00m \u001b[38;5;129;01mnot\u001b[39;00m is_fp_closed(\u001b[38;5;28mself\u001b[39m._fp) \u001b[38;5;129;01mor\u001b[39;00m \u001b[38;5;28mlen\u001b[39m(\u001b[38;5;28mself\u001b[39m._decoded_buffer) > \u001b[32m0\u001b[39m:\n",
      "\u001b[36mFile \u001b[39m\u001b[32md:\\Anaconda\\envs\\valura_agent\\Lib\\site-packages\\urllib3\\response.py:1248\u001b[39m, in \u001b[36mHTTPResponse.read_chunked\u001b[39m\u001b[34m(self, amt, decode_content)\u001b[39m\n\u001b[32m   1245\u001b[39m     amt = \u001b[38;5;28;01mNone\u001b[39;00m\n\u001b[32m   1247\u001b[39m \u001b[38;5;28;01mwhile\u001b[39;00m \u001b[38;5;28;01mTrue\u001b[39;00m:\n\u001b[32m-> \u001b[39m\u001b[32m1248\u001b[39m     \u001b[38;5;28;43mself\u001b[39;49m\u001b[43m.\u001b[49m\u001b[43m_update_chunk_length\u001b[49m\u001b[43m(\u001b[49m\u001b[43m)\u001b[49m\n\u001b[32m   1249\u001b[39m     \u001b[38;5;28;01mif\u001b[39;00m \u001b[38;5;28mself\u001b[39m.chunk_left == \u001b[32m0\u001b[39m:\n\u001b[32m   1250\u001b[39m         \u001b[38;5;28;01mbreak\u001b[39;00m\n",
      "\u001b[36mFile \u001b[39m\u001b[32md:\\Anaconda\\envs\\valura_agent\\Lib\\site-packages\\urllib3\\response.py:1167\u001b[39m, in \u001b[36mHTTPResponse._update_chunk_length\u001b[39m\u001b[34m(self)\u001b[39m\n\u001b[32m   1165\u001b[39m \u001b[38;5;28;01mif\u001b[39;00m \u001b[38;5;28mself\u001b[39m.chunk_left \u001b[38;5;129;01mis\u001b[39;00m \u001b[38;5;129;01mnot\u001b[39;00m \u001b[38;5;28;01mNone\u001b[39;00m:\n\u001b[32m   1166\u001b[39m     \u001b[38;5;28;01mreturn\u001b[39;00m \u001b[38;5;28;01mNone\u001b[39;00m\n\u001b[32m-> \u001b[39m\u001b[32m1167\u001b[39m line = \u001b[38;5;28mself\u001b[39m._fp.fp.readline()  \u001b[38;5;66;03m# type: ignore[union-attr]\u001b[39;00m\n\u001b[32m   1168\u001b[39m line = line.split(\u001b[33mb\u001b[39m\u001b[33m\"\u001b[39m\u001b[33m;\u001b[39m\u001b[33m\"\u001b[39m, \u001b[32m1\u001b[39m)[\u001b[32m0\u001b[39m]\n\u001b[32m   1169\u001b[39m \u001b[38;5;28;01mtry\u001b[39;00m:\n",
      "\u001b[36mFile \u001b[39m\u001b[32md:\\Anaconda\\envs\\valura_agent\\Lib\\socket.py:718\u001b[39m, in \u001b[36mSocketIO.readinto\u001b[39m\u001b[34m(self, b)\u001b[39m\n\u001b[32m    716\u001b[39m \u001b[38;5;28;01mwhile\u001b[39;00m \u001b[38;5;28;01mTrue\u001b[39;00m:\n\u001b[32m    717\u001b[39m     \u001b[38;5;28;01mtry\u001b[39;00m:\n\u001b[32m--> \u001b[39m\u001b[32m718\u001b[39m         \u001b[38;5;28;01mreturn\u001b[39;00m \u001b[38;5;28;43mself\u001b[39;49m\u001b[43m.\u001b[49m\u001b[43m_sock\u001b[49m\u001b[43m.\u001b[49m\u001b[43mrecv_into\u001b[49m\u001b[43m(\u001b[49m\u001b[43mb\u001b[49m\u001b[43m)\u001b[49m\n\u001b[32m    719\u001b[39m     \u001b[38;5;28;01mexcept\u001b[39;00m timeout:\n\u001b[32m    720\u001b[39m         \u001b[38;5;28mself\u001b[39m._timeout_occurred = \u001b[38;5;28;01mTrue\u001b[39;00m\n",
      "\u001b[31mKeyboardInterrupt\u001b[39m: "
     ]
    }
   ],
   "source": [
    "# Step 3: Ask a general query (should trigger fallback tool)\n",
    "general_response = agent.invoke({\"input\": \"hello, how are you?\"})\n",
    "print(\"\\n[Fallback Response]\")\n",
    "print(general_response[\"output\"])"
   ]
  },
  {
   "cell_type": "code",
   "execution_count": null,
   "id": "2fbe20f9",
   "metadata": {},
   "outputs": [
    {
     "name": "stdout",
     "output_type": "stream",
     "text": [
      "\n",
      "\n",
      "\u001b[1m> Entering new AgentExecutor chain...\u001b[0m\n",
      "\u001b[32;1m\u001b[1;3mI can help you with that! Here's the response:\n",
      "\n",
      "```json\n",
      "{\n",
      "    \"action\": \"future_value_tool\",\n",
      "    \"action_input\": \"pv=10000, rate=0.05, n=10\"\n",
      "}\n",
      "```\n",
      "\n",
      "Let me know what you'd like to do next!\u001b[0m\n",
      "Observation: \u001b[33;1m\u001b[1;3m16288.95\u001b[0m\n",
      "Thought:\u001b[32;1m\u001b[1;3mHere's the response:\n",
      "\n",
      "```json\n",
      "{\n",
      "    \"action\": \"Final Answer\",\n",
      "    \"action_input\": \"The future value is 16,288.95.\"\n",
      "}\n",
      "```\u001b[0m\n",
      "\n",
      "\u001b[1m> Finished chain.\u001b[0m\n",
      "Future Value: The future value is 16,288.95.\n"
     ]
    }
   ],
   "source": [
    "response = agent.invoke({\"input\": \"What's the future value if I invest 10000 at 0.05 for 10 years?\"})\n",
    "print(\"Future Value:\", response[\"output\"])"
   ]
  },
  {
   "cell_type": "markdown",
   "id": "53cddc36",
   "metadata": {},
   "source": [
    "## **03. Dynamically Prompted Multi-LLM Workflow Testing**\n",
    "- Added Multiple LLMs to assess inputs and modify outputs\n",
    "- Handles all kinds of Dynamic Inputs very well"
   ]
  },
  {
   "cell_type": "code",
   "execution_count": 1,
   "id": "46af8cdc",
   "metadata": {},
   "outputs": [],
   "source": [
    "# Setting Project Root\n",
    "import sys, os\n",
    "PROJECT_ROOT = os.path.abspath(os.path.join(os.getcwd(), \"..\"))\n",
    "if PROJECT_ROOT not in sys.path:\n",
    "    sys.path.insert(0, PROJECT_ROOT)"
   ]
  },
  {
   "cell_type": "code",
   "execution_count": 3,
   "id": "f66dcbbc",
   "metadata": {},
   "outputs": [],
   "source": [
    "from inference_pipeline.prediction import run_pipeline"
   ]
  },
  {
   "cell_type": "code",
   "execution_count": 4,
   "id": "d7552a1b",
   "metadata": {},
   "outputs": [],
   "source": [
    "user_session_id = \"dummy_test_user_01\""
   ]
  },
  {
   "cell_type": "code",
   "execution_count": 5,
   "id": "636eaf37",
   "metadata": {},
   "outputs": [
    {
     "data": {
      "text/plain": [
       "\"I'm happy to help with that! As a conversational AI, I don't have real-time access to market data or current market conditions. However, I can provide you with some general information and insights on retirement planning.\\n\\nTo get started, let's consider the following:\\n\\n1. **Retirement goals**: What do you want your retirement to look like? Do you envision traveling, pursuing hobbies, or simply enjoying time with family and friends?\\n2. **Current situation**: What is your current financial situation? Have you started saving for retirement? Do you have a 401(k), IRA, or other retirement accounts?\\n3. **Time horizon**: How much time do you have before retiring? This will help determine the best investment strategy.\\n4. **Risk tolerance**: Are you comfortable with some level of risk in your investments, or would you prefer more conservative options?\\n\\nOnce we've discussed these factors, I can offer general guidance on retirement planning strategies, such as:\\n\\n1. **Saving and investing**: How to allocate your savings for maximum growth and protection.\\n2. **Retirement accounts**: Which types of accounts (e.g., 401(k), IRA, Roth IRA) are best suited for your situation.\\n3. **Inflation protection**: Strategies to ensure your retirement savings keep pace with inflation.\\n4. **Income planning**: How to generate a sustainable income stream in retirement.\\n\\nLet me know if you'd like to explore these topics further!\""
      ]
     },
     "execution_count": 5,
     "metadata": {},
     "output_type": "execute_result"
    }
   ],
   "source": [
    "# 1: Random small talk → Intro LLM should reply naturally\n",
    "run_pipeline('Hi there, how\\'s the market today?', user_session_id)"
   ]
  },
  {
   "cell_type": "code",
   "execution_count": 6,
   "id": "d1d69819",
   "metadata": {},
   "outputs": [
    {
     "data": {
      "text/plain": [
       "\"I'd be happy to help you with retirement planning!\\n\\nTo get started, let's go through some questions together:\\n\\n1. **What is your current age?** This will help us determine how much time we have until retirement.\\n2. **What is your desired retirement age?** When do you want to stop working and start enjoying your golden years?\\n3. **What are your retirement goals?** Do you want to travel, pursue hobbies, or simply enjoy time with family and friends?\\n4. **What is your current income level?** This will help us determine how much you can realistically save each month.\\n5. **Do you have any debt?** High-interest debt, such as credit card debt, should be prioritized for repayment before focusing on retirement savings.\\n6. **How much do you currently have saved for retirement?** This will give us a starting point for our planning.\\n7. **What is your desired retirement income level?** How much money do you want to have each month in retirement?\\n8. **Are there any specific financial goals or concerns you have for retirement?** (e.g., paying off a mortgage, covering healthcare expenses)\\n\\nOnce we've gathered this information, we can start discussing strategies for:\\n\\n1. **Saving and investing**: Allocating your savings for maximum growth and protection.\\n2. **Retirement accounts**: Choosing the best types of accounts (e.g., 401(k), IRA, Roth IRA) for your situation.\\n3. **Inflation protection**: Strategies to ensure your retirement savings keep pace with inflation.\\n4. **Income planning**: How to generate a sustainable income stream in retirement.\\n\\nLet's get started!\""
      ]
     },
     "execution_count": 6,
     "metadata": {},
     "output_type": "execute_result"
    }
   ],
   "source": [
    "# 2: Asking for help → Intro LLM should explain functionality\n",
    "run_pipeline('Can you help me with retirement planning?', user_session_id)"
   ]
  },
  {
   "cell_type": "code",
   "execution_count": 7,
   "id": "c5c7529f",
   "metadata": {},
   "outputs": [
    {
     "data": {
      "text/plain": [
       "\"With a starting point of ₹5000 per month, we can begin exploring strategies for your retirement savings!\\n\\nAssuming you continue saving ₹5000 per month until you retire at age 60 (25 years from now), let's do some rough calculations:\\n\\n1. **Total savings**: ₹5000/month × 12 months/year × 25 years = ₹15,00,000\\n2. **Compound interest**: If we assume an average annual return of 8% (which is a reasonable estimate for a long-term investment portfolio), the total amount would grow to approximately ₹31,50,000\\n\\nNow, let's consider some factors that might impact your retirement planning:\\n\\n1. **Inflation**: To keep pace with inflation, you may want to aim for an average annual return of around 10% to maintain the purchasing power of your savings.\\n2. **Retirement expenses**: How much do you think you'll need each month in retirement? This will help determine how much you should aim to save and what kind of returns you'll need to achieve your goals.\\n\\nSome questions to consider:\\n\\n1. **What is your desired retirement income level?** Do you want ₹50,000/month or more?\\n2. **Do you have any specific financial goals for retirement**, such as paying off a mortgage or covering healthcare expenses?\\n\\nWe can explore strategies to help you reach your retirement goals, such as:\\n\\n1. **Increasing your savings rate**: If you can increase your monthly contributions, you'll be building up your savings faster.\\n2. **Investing in a diversified portfolio**: By spreading your investments across different asset classes (e.g., stocks, bonds, real estate), you can potentially earn higher returns and reduce risk.\\n3. **Taking advantage of tax-advantaged accounts**: Utilize accounts like Public Provident Fund (PPF) or National Pension System (NPS) to grow your savings more efficiently.\\n\\nHow would you like to proceed?\""
      ]
     },
     "execution_count": 7,
     "metadata": {},
     "output_type": "execute_result"
    }
   ],
   "source": [
    "# 3: Incomplete persona input → Triggers missing value recovery\n",
    "run_pipeline('I\\'m 35 years old and I save ₹5000 per month.', user_session_id)"
   ]
  },
  {
   "cell_type": "code",
   "execution_count": 8,
   "id": "521e00ba",
   "metadata": {},
   "outputs": [
    {
     "data": {
      "text/plain": [
       "\"Excellent! With a starting point of ₹2,00,000 and a goal to retire at 60, we can work together to create a plan.\\n\\nAssuming you continue saving ₹5000 per month until retirement, let's do some calculations:\\n\\n1. **Total savings**: ₹5000/month × 12 months/year × (60 - 35) years = ₹21,00,000\\n2. **Current savings**: Add your current savings of ₹2,00,000 to the total: ₹23,00,000\\n\\nNow, let's consider some factors that might impact your retirement planning:\\n\\n1. **Inflation**: To keep pace with inflation, you may want to aim for an average annual return of around 10% to maintain the purchasing power of your savings.\\n2. **Retirement expenses**: How much do you think you'll need each month in retirement? This will help determine how much you should aim to save and what kind of returns you'll need to achieve your goals.\\n\\nSome questions to consider:\\n\\n1. **What is your desired retirement income level?** Do you want ₹50,000/month or more?\\n2. **Do you have any specific financial goals for retirement**, such as paying off a mortgage or covering healthcare expenses?\\n\\nWe can explore strategies to help you reach your retirement goals, such as:\\n\\n1. **Increasing your savings rate**: If you can increase your monthly contributions, you'll be building up your savings faster.\\n2. **Investing in a diversified portfolio**: By spreading your investments across different asset classes (e.g., stocks, bonds, real estate), you can potentially earn higher returns and reduce risk.\\n3. **Taking advantage of tax-advantaged accounts**: Utilize accounts like Public Provident Fund (PPF) or National Pension System (NPS) to grow your savings more efficiently.\\n\\nConsidering your current savings and desired retirement age, we might want to focus on:\\n\\n1. **Consolidating and growing your current savings**: Aim to increase your current savings by ₹10,000 to ₹20,000 per month.\\n2. **Maximizing tax-advantaged accounts**: Utilize accounts like PPF or NPS to grow your savings more efficiently.\\n\\nHow would you like to proceed?\""
      ]
     },
     "execution_count": 8,
     "metadata": {},
     "output_type": "execute_result"
    }
   ],
   "source": [
    "# 4: Add more persona → Fills remaining fields incrementally\n",
    "run_pipeline('I currently have ₹2,00,000 in savings and want to retire at 60.', user_session_id)"
   ]
  },
  {
   "cell_type": "code",
   "execution_count": 9,
   "id": "246eed11",
   "metadata": {},
   "outputs": [
    {
     "data": {
      "text/plain": [
       "\"To calculate the future value of an investment, we can use the formula:\\n\\nFV = PV x (1 + r)^n\\n\\nWhere:\\nFV = Future Value\\nPV = Present Value (initial investment) = ₹10,000\\nr = Interest rate = 7% = 0.07\\nn = Number of years = 10 years\\n\\nPlugging in the numbers, we get:\\n\\nFV = ₹10,000 x (1 + 0.07)^10\\nFV ≈ ₹20,434.11\\n\\nSo, after 10 years, your initial investment of ₹10,000 would grow to approximately ₹20,434.11 at an interest rate of 7%.\\n\\nKeep in mind that this calculation assumes:\\n\\n* Compound interest: The interest is compounded annually.\\n* No withdrawals or deposits: You don't touch the principal amount or add any more funds during the 10-year period.\\n\\nRemember, this is a rough estimate and actual results may vary based on market conditions and other factors.\""
      ]
     },
     "execution_count": 9,
     "metadata": {},
     "output_type": "execute_result"
    }
   ],
   "source": [
    "# 5: Direct finance query (trigger tool)\n",
    "run_pipeline('What\\'s the future value if I invest ₹10000 at 7% for 10 years?', user_session_id)"
   ]
  },
  {
   "cell_type": "code",
   "execution_count": 10,
   "id": "cd160df5",
   "metadata": {},
   "outputs": [
    {
     "data": {
      "text/plain": [
       "\"To calculate how much you need to save each month, we can use the formula:\\n\\nMonthly Savings = Total Amount / Number of Months\\n\\nWhere:\\nTotal Amount = ₹20,00,000\\nNumber of Months = 15 years × 12 months/year = 180 months\\n\\nFirst, let's calculate the total interest earned at a 6% return:\\n\\nTotal Interest = Total Amount - Principal Amount\\n= ₹20,00,000 - ₹10,00,000 (assuming you start with ₹10,00,000)\\n≈ ₹9,00,000\\n\\nNow, let's find the monthly savings needed to reach the target:\\n\\nMonthly Savings = Total Amount / Number of Months\\n= ₹20,00,000 / 180 months\\n≈ ₹11,111.11 per month\\n\\nTo account for the interest earned, we can adjust this amount downward:\\n\\nMonthly Savings ≈ ₹10,500 per month (to earn approximately ₹9,00,000 in interest over 15 years)\\n\\nSo, to reach a goal of ₹20 lakhs in 15 years at a 6% return, you would need to save around ₹10,500 each month.\\n\\nKeep in mind that this calculation assumes:\\n\\n* Compound interest: The interest is compounded annually.\\n* No withdrawals or deposits: You don't touch the principal amount or add any more funds during the 15-year period.\\n* A consistent annual return of 6%: This may not be realistic, as market conditions can fluctuate.\\n\\nAs always, it's essential to review and adjust your plan regularly to ensure you're on track to meet your goals.\""
      ]
     },
     "execution_count": 10,
     "metadata": {},
     "output_type": "execute_result"
    }
   ],
   "source": [
    "# 6: Generic prompt for monthly savings goal (triggers tool)\n",
    "run_pipeline('How much should I save monthly to reach ₹20 lakhs in 15 years at 6% return?', user_session_id)"
   ]
  },
  {
   "cell_type": "code",
   "execution_count": 11,
   "id": "a3c9b91a",
   "metadata": {},
   "outputs": [
    {
     "data": {
      "text/plain": [
       "'To calculate how long it takes for an investment to double in value at a given interest rate, we can use the rule of 72.\\n\\nThe rule of 72 is a rough estimate that states:\\n\\n* At an annual interest rate of 9%, it will take approximately 8 years to double your money.\\n* At an annual interest rate of 10%, it will take approximately 7 years to double your money.\\n* At an annual interest rate of 11%, it will take approximately 6.5 years to double your money.\\n\\nThe rule of 72 is based on the formula:\\n\\nTime = 72 / Interest Rate\\n\\nWhere:\\nTime = How many years it takes for an investment to double in value\\nInterest Rate = The annual interest rate (as a decimal)\\n\\nFor example, if you want to know how long it will take for your money to double at a 9% interest rate, you would plug in the numbers as follows:\\n\\nTime = 72 / 0.09\\nTime ≈ 8 years\\n\\nSo, at an annual interest rate of 9%, it will take approximately 8 years for your investment to double in value.\\n\\nKeep in mind that this is a rough estimate and actual results may vary based on market conditions and other factors.'"
      ]
     },
     "execution_count": 11,
     "metadata": {},
     "output_type": "execute_result"
    }
   ],
   "source": [
    "# 7: Rule of 72 query → Test domain-specific tool\n",
    "run_pipeline('How long to double my money at 9%?', user_session_id)"
   ]
  },
  {
   "cell_type": "code",
   "execution_count": 12,
   "id": "ce6c3a3d",
   "metadata": {},
   "outputs": [
    {
     "data": {
      "text/plain": [
       "\"I don't have the capability to play chess or any other game in the classical sense, but I can certainly provide information and insights about chess!\\n\\nChess is a two-player strategy board game that involves moving pieces on a square board with the ultimate goal of capturing your opponent's king. It requires critical thinking, problem-solving, and analytical skills.\\n\\nIf you're interested in learning more about chess or improving your gameplay, I'd be happy to help!\""
      ]
     },
     "execution_count": 12,
     "metadata": {},
     "output_type": "execute_result"
    }
   ],
   "source": [
    "# 8: General fallback check again\n",
    "run_pipeline('That\\'s cool. Do you also play chess?', user_session_id)"
   ]
  },
  {
   "cell_type": "markdown",
   "id": "26f845ae",
   "metadata": {},
   "source": [
    "## **04. Replaced LLMs with Mistral:Instruct**\n",
    "- Comparing llama3:instruct with mistral:instrct for faster response with better reasoning\n",
    "- Modified the LLM temperatures to decrease the output length\n",
    "- Prompt modification for output control"
   ]
  },
  {
   "cell_type": "code",
   "execution_count": 1,
   "id": "6129b26e",
   "metadata": {},
   "outputs": [
    {
     "name": "stderr",
     "output_type": "stream",
     "text": [
      "d:\\IIT BBS\\Job Resources\\2cents capital\\valura_agent\\agent\\llms.py:6: LangChainDeprecationWarning: The class `ChatOllama` was deprecated in LangChain 0.3.1 and will be removed in 1.0.0. An updated version of the class exists in the :class:`~langchain-ollama package and should be used instead. To use it run `pip install -U :class:`~langchain-ollama` and import as `from :class:`~langchain_ollama import ChatOllama``.\n",
      "  intro_llm = ChatOllama(\n"
     ]
    }
   ],
   "source": [
    "# Setting Project Root\n",
    "import sys, os\n",
    "PROJECT_ROOT = os.path.abspath(os.path.join(os.getcwd(), \"..\"))\n",
    "if PROJECT_ROOT not in sys.path:\n",
    "    sys.path.insert(0, PROJECT_ROOT)\n",
    "\n",
    "from inference_pipeline.prediction import run_pipeline"
   ]
  },
  {
   "cell_type": "code",
   "execution_count": 2,
   "id": "6d6ecebb",
   "metadata": {},
   "outputs": [],
   "source": [
    "user2_session_id = \"llama_instruct_test_05\""
   ]
  },
  {
   "cell_type": "code",
   "execution_count": 3,
   "id": "1f507e41",
   "metadata": {},
   "outputs": [
    {
     "data": {
      "text/plain": [
       "\"Hey! I'm Ram, your financial planning assistant from Valura. I can help with retirement, savings goals, and future value planning. Want to get started?\""
      ]
     },
     "execution_count": 3,
     "metadata": {},
     "output_type": "execute_result"
    }
   ],
   "source": [
    "# 1. Small Talk / General Conversation Detection\n",
    "\n",
    "# 1: Greeting only\n",
    "run_pipeline(\"Hey, how's it going?\", user2_session_id)"
   ]
  },
  {
   "cell_type": "code",
   "execution_count": 4,
   "id": "87661036",
   "metadata": {},
   "outputs": [
    {
     "data": {
      "text/plain": [
       "\"Hey! I'm Ram, your financial planning assistant from Valura. I can help with retirement, savings goals, and future value planning. Want to get started?\""
      ]
     },
     "execution_count": 4,
     "metadata": {},
     "output_type": "execute_result"
    }
   ],
   "source": [
    "# 2: Non-financial curiosity\n",
    "run_pipeline(\"Do you have a name?\", user2_session_id)"
   ]
  },
  {
   "cell_type": "code",
   "execution_count": 5,
   "id": "de791c46",
   "metadata": {},
   "outputs": [
    {
     "data": {
      "text/plain": [
       "\"Hey! I'm Ram, your financial planning assistant from Valura. I can help with retirement, savings goals, and future value planning. Want to get started?\""
      ]
     },
     "execution_count": 5,
     "metadata": {},
     "output_type": "execute_result"
    }
   ],
   "source": [
    "# 3: Asking capabilities\n",
    "run_pipeline(\"What can you help me with?\", user2_session_id)"
   ]
  },
  {
   "cell_type": "code",
   "execution_count": 4,
   "id": "e507071b",
   "metadata": {},
   "outputs": [
    {
     "data": {
      "text/plain": [
       "\"I'd be happy to help you plan your finances.\\n\\nTo get started, can you please share some information about your financial situation? This will help me better understand your needs and provide more tailored guidance. Please consider sharing the following:\\n\\n1. Your income: How much money do you bring in each month?\\n2. Your expenses: What are your regular monthly expenses, such as rent/mortgage, utilities, groceries, transportation, debt payments, and entertainment?\\n3. Your debts: Do you have any outstanding debts, such as credit cards, student loans, or personal loans? If so, what's the balance and interest rate for each?\\n4. Your savings goals: Are there specific financial goals you're working towards, such as building an emergency fund, saving for a down payment on a house, or retirement?\\n5. Any financial priorities: Are there certain areas of your finances that you'd like to focus on, such as paying off high-interest debt or increasing your savings rate?\\n\\nOnce I have this information, we can start discussing strategies for:\\n\\n* Creating a budget that works for you\\n* Prioritizing your spending and saving\\n* Paying off debt efficiently\\n* Building an emergency fund\\n* Investing for the future\\n\\nRemember, planning your finances is a personal process, and there's no one-size-fits-all solution. I'm here to help you develop a plan that aligns with your goals and values.\\n\\nHow does that sound? Are you ready to get started?\""
      ]
     },
     "execution_count": 4,
     "metadata": {},
     "output_type": "execute_result"
    }
   ],
   "source": [
    "# 2. Starting Financial Planning Without Details\n",
    "\n",
    "# 4: Vague intent to plan\n",
    "run_pipeline(\"Can you help me plan my finances?\", user2_session_id)"
   ]
  },
  {
   "cell_type": "code",
   "execution_count": 6,
   "id": "a024762c",
   "metadata": {},
   "outputs": [
    {
     "data": {
      "text/plain": [
       "\"I'm ready to assist!\""
      ]
     },
     "execution_count": 6,
     "metadata": {},
     "output_type": "execute_result"
    }
   ],
   "source": [
    "# 5: Mention retirement vaguely\n",
    "run_pipeline(\"I want to retire early. Can you help?\", user2_session_id)"
   ]
  },
  {
   "cell_type": "code",
   "execution_count": 7,
   "id": "512f6232",
   "metadata": {},
   "outputs": [
    {
     "data": {
      "text/plain": [
       "\"I'd be happy to help you plan for an early retirement! With your current savings of $2,000 per month at the age of 30, we can start exploring options. Can you tell me what kind of lifestyle do you envision in retirement? Do you have any specific goals or targets in mind?\""
      ]
     },
     "execution_count": 7,
     "metadata": {},
     "output_type": "execute_result"
    }
   ],
   "source": [
    "# 3. Partial Persona Input → Triggers Missing Value Follow-up\n",
    "\n",
    "# 6: Partial data for retirement age\n",
    "run_pipeline(\"My age is 30 and I save 2000 a month\", user2_session_id)"
   ]
  },
  {
   "cell_type": "code",
   "execution_count": 8,
   "id": "3a70363d",
   "metadata": {},
   "outputs": [
    {
     "data": {
      "text/plain": [
       "\"I'd be happy to help you plan for an early retirement! With your current age being 35, we can start exploring options. Since you mentioned wanting to retire with ₹50 lakhs, let's work together to create a personalized plan. Can you tell me what kind of lifestyle do you envision in retirement? Do you have any specific goals or targets in mind?\""
      ]
     },
     "execution_count": 8,
     "metadata": {},
     "output_type": "execute_result"
    }
   ],
   "source": [
    "# 7: Only gives goal + age\n",
    "run_pipeline(\"I'm 35 and want to retire with 50 lakhs\", user2_session_id)"
   ]
  },
  {
   "cell_type": "code",
   "execution_count": 8,
   "id": "ca341335",
   "metadata": {},
   "outputs": [
    {
     "data": {
      "text/plain": [
       "'To calculate the Future Value (FV) of a present value (PV) of ₹10,000 at an interest rate of 8% per annum compounded annually for 12 years, we can use the formula:\\n\\nFV = PV x (1 + r)^n\\n\\nWhere:\\nFV = Future Value\\nPV = Present Value (₹10,000)\\nr = Interest Rate (0.08 or 8%)\\nn = Number of Years (12)\\n\\nPlugging in the values, we get:\\n\\nFV = ₹10,000 x (1 + 0.08)^12\\n= ₹10,000 x 2.1444\\n= ₹21,444\\n\\nSo, after 12 years, the Future Value of the present value of ₹10,000 would be approximately ₹21,444.\\n\\nKeep in mind that this calculation assumes compound interest is added annually, and the interest rate remains constant at 8% per annum throughout the 12-year period.'"
      ]
     },
     "execution_count": 8,
     "metadata": {},
     "output_type": "execute_result"
    }
   ],
   "source": [
    "# 4. Direct Tool Trigger with All Inputs\n",
    "\n",
    "# 8: Trigger FV tool with everything\n",
    "run_pipeline(\"Calculate future value for pv=10000, rate=0.08, n=12\", user2_session_id)"
   ]
  },
  {
   "cell_type": "code",
   "execution_count": 9,
   "id": "0e1fa3eb",
   "metadata": {},
   "outputs": [
    {
     "data": {
      "text/plain": [
       "\"Wow, you're already thinking ahead! With your current age being 30 and a monthly savings of ₹3,000, we can start building a strong foundation for your retirement goals. You've mentioned a target of ₹75 lakhs, which is ambitious but achievable with the right plan. Can you tell me what kind of lifestyle do you envision in retirement? Do you have any specific goals or targets in mind?\""
      ]
     },
     "execution_count": 9,
     "metadata": {},
     "output_type": "execute_result"
    }
   ],
   "source": [
    "# 9: Retirement calculator full input\n",
    "run_pipeline(\"age=30, savings=15000, monthly_saving=3000, goal=750000, rate=0.07\", user2_session_id)"
   ]
  },
  {
   "cell_type": "code",
   "execution_count": 11,
   "id": "34b21b69",
   "metadata": {},
   "outputs": [
    {
     "data": {
      "text/plain": [
       "\"I'd be happy to help you plan for an early retirement! With your current age being 35, we can start exploring options. Since you mentioned wanting to retire with ₹50 lakhs, let's work together to create a personalized plan. Can you tell me what kind of lifestyle do you envision in retirement? Do you have any specific goals or targets in mind?\\n\\n(Note: I'm assuming this is the beginning of our conversation and not a specific financial request. If it were a clear financial request, I would hand off control to the tool agent.)\""
      ]
     },
     "execution_count": 11,
     "metadata": {},
     "output_type": "execute_result"
    }
   ],
   "source": [
    "# 5. Tool Trigger with Missing Fields (tests missing_fields.txt)\n",
    "\n",
    "# 10: FV tool with missing `n`\n",
    "run_pipeline(\"Calculate future value for pv=5000, rate=0.05\", user2_session_id)"
   ]
  },
  {
   "cell_type": "code",
   "execution_count": null,
   "id": "190d1859",
   "metadata": {},
   "outputs": [],
   "source": [
    "# 11: Rule of 72 with no rate\n",
    "run_pipeline(\"Can you tell me when my money will double?\", user2_session_id)"
   ]
  },
  {
   "cell_type": "code",
   "execution_count": null,
   "id": "91825b4f",
   "metadata": {},
   "outputs": [],
   "source": [
    "# 6. Mid-convo General Chat → Should detect & respond naturally\n",
    "\n",
    "# 12: In between chat\n",
    "run_pipeline(\"Thanks, that was helpful!\", user2_session_id)\n",
    "\n",
    "# 13: Random query in middle\n",
    "run_pipeline(\"What's your favorite investment strategy?\", user2_session_id)"
   ]
  },
  {
   "cell_type": "code",
   "execution_count": null,
   "id": "84035f99",
   "metadata": {},
   "outputs": [],
   "source": [
    "#  7. Tool Result → Output LLM should elaborate response\n",
    "\n",
    "# 14: Monthly savings goal full input → check elaboration\n",
    "run_pipeline(\"goal=1000000, years=15, rate=0.07\", user2_session_id)\n",
    "\n",
    "# 15: Present value annuity with tool-style input\n",
    "run_pipeline(\"pmt=3000, rate=0.06, n=20\", user2_session_id)"
   ]
  },
  {
   "cell_type": "code",
   "execution_count": null,
   "id": "04562b0c",
   "metadata": {},
   "outputs": [],
   "source": [
    "# 8. Mix of small talk → info → trigger → follow-up → result\n",
    "\n",
    "# 16: Chat-start → Info sharing → Real question\n",
    "run_pipeline(\"Hey! Just exploring what you do.\", user2_session_id)\n",
    "run_pipeline(\"I'm 32, save 10k monthly, want to retire by 55\", user2_session_id)\n",
    "run_pipeline(\"Will I have enough saved by then?\", user2_session_id)"
   ]
  },
  {
   "cell_type": "code",
   "execution_count": null,
   "id": "5cb7986c",
   "metadata": {},
   "outputs": [],
   "source": [
    "#  9. Edge Cases\n",
    "\n",
    "# 17: Ambiguous sentence\n",
    "run_pipeline(\"Double money in 10 years?\", user2_session_id)\n",
    "\n",
    "# 18: Wrong input format (tests fallback)\n",
    "run_pipeline(\"Calculate fv of pv is 20000 and interest is good\", user2_session_id)\n",
    "\n",
    "# 19: Tool keyword + no params\n",
    "run_pipeline(\"Can you run the retirement_age_calculator_tool?\", user2_session_id)"
   ]
  }
 ],
 "metadata": {
  "kernelspec": {
   "display_name": "valura_agent",
   "language": "python",
   "name": "python3"
  },
  "language_info": {
   "codemirror_mode": {
    "name": "ipython",
    "version": 3
   },
   "file_extension": ".py",
   "mimetype": "text/x-python",
   "name": "python",
   "nbconvert_exporter": "python",
   "pygments_lexer": "ipython3",
   "version": "3.11.13"
  }
 },
 "nbformat": 4,
 "nbformat_minor": 5
}
