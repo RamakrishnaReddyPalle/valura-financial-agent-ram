{
 "cells": [
  {
   "cell_type": "code",
   "execution_count": 1,
   "id": "f41d11eb",
   "metadata": {},
   "outputs": [
    {
     "name": "stdout",
     "output_type": "stream",
     "text": [
      "langchain: 0.3.27\n",
      "langchain-core: 0.3.72\n",
      "langchain-community: 0.3.27\n"
     ]
    },
    {
     "name": "stderr",
     "output_type": "stream",
     "text": [
      "C:\\Users\\Dell\\AppData\\Local\\Temp\\ipykernel_13016\\231353216.py:1: DeprecationWarning: pkg_resources is deprecated as an API. See https://setuptools.pypa.io/en/latest/pkg_resources.html\n",
      "  import pkg_resources\n"
     ]
    }
   ],
   "source": [
    "import pkg_resources\n",
    "\n",
    "for lib in [\"langchain\", \"langchain-core\", \"langchain-community\"]:\n",
    "    try:\n",
    "        version = pkg_resources.get_distribution(lib).version\n",
    "        print(f\"{lib}: {version}\")\n",
    "    except:\n",
    "        print(f\"{lib} not installed\")"
   ]
  },
  {
   "cell_type": "code",
   "execution_count": 2,
   "id": "be34b593",
   "metadata": {},
   "outputs": [
    {
     "name": "stdout",
     "output_type": "stream",
     "text": [
      "✅ ConversationSummaryBufferMemory found in langchain.memory — used in summary_memory.py\n",
      "✅ ChatOpenAI found in langchain_community.chat_models — used in builder.py\n",
      "✅ ConversationBufferMemory found in langchain.memory — used in memory.py\n",
      "✅ BaseMessage found in langchain.schema.messages — used in memory.py\n",
      "❌ ChatMessageHistory NOT FOUND in langchain.memory.chat_memory ❌ — used in json_memory.py\n",
      "✅ AIMessage found in langchain.schema.messages — used in json_memory.py\n",
      "✅ HumanMessage found in langchain.schema.messages — used in json_memory.py\n",
      "✅ tool found in langchain.tools — used in tools/*.py\n",
      "✅ initialize_agent found in langchain.agents — used in builder.py\n",
      "✅ Tool found in langchain.agents — used in builder.py\n"
     ]
    }
   ],
   "source": [
    "# notebooks/zz_check_imports.ipynb or run as .py\n",
    "import importlib\n",
    "\n",
    "imports_to_check = {\n",
    "    \"langchain.memory.ConversationSummaryBufferMemory\": \"summary_memory.py\",\n",
    "    \"langchain_community.chat_models.ChatOpenAI\": \"summary_memory.py\",\n",
    "    \"langchain.memory.ConversationBufferMemory\": \"memory.py\",\n",
    "    \"langchain.schema.messages.BaseMessage\": \"memory.py\",\n",
    "    \"langchain.memory.chat_memory.ChatMessageHistory\": \"json_memory.py\",\n",
    "    \"langchain.schema.messages.AIMessage\": \"json_memory.py\",\n",
    "    \"langchain.schema.messages.HumanMessage\": \"json_memory.py\",\n",
    "    \"langchain.tools.tool\": \"tools/*.py\",\n",
    "    \"langchain_community.chat_models.ChatOpenAI\": \"builder.py\",\n",
    "    \"langchain.agents.initialize_agent\": \"builder.py\",\n",
    "    \"langchain.agents.Tool\": \"builder.py\",\n",
    "}\n",
    "\n",
    "for import_path, file in imports_to_check.items():\n",
    "    module_path, attr = import_path.rsplit(\".\", 1)\n",
    "    try:\n",
    "        mod = importlib.import_module(module_path)\n",
    "        getattr(mod, attr)\n",
    "        print(f\"✅ {attr} found in {module_path} — used in {file}\")\n",
    "    except (ImportError, AttributeError) as e:\n",
    "        print(f\"❌ {attr} NOT FOUND in {module_path} ❌ — used in {file}\")"
   ]
  }
 ],
 "metadata": {
  "kernelspec": {
   "display_name": "valura_agent",
   "language": "python",
   "name": "python3"
  },
  "language_info": {
   "codemirror_mode": {
    "name": "ipython",
    "version": 3
   },
   "file_extension": ".py",
   "mimetype": "text/x-python",
   "name": "python",
   "nbconvert_exporter": "python",
   "pygments_lexer": "ipython3",
   "version": "3.11.13"
  }
 },
 "nbformat": 4,
 "nbformat_minor": 5
}
